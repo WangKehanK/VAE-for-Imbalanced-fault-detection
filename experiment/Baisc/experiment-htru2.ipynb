{
 "cells": [
  {
   "cell_type": "code",
   "execution_count": 1,
   "metadata": {
    "execution": {
     "iopub.execute_input": "2020-10-06T16:38:33.736274Z",
     "iopub.status.busy": "2020-10-06T16:38:33.735828Z",
     "iopub.status.idle": "2020-10-06T16:38:34.687606Z",
     "shell.execute_reply": "2020-10-06T16:38:34.687173Z"
    },
    "papermill": {
     "duration": 0.971296,
     "end_time": "2020-10-06T16:38:34.687691",
     "exception": false,
     "start_time": "2020-10-06T16:38:33.716395",
     "status": "completed"
    },
    "tags": []
   },
   "outputs": [],
   "source": [
    "import numpy as np\n",
    "import pandas as pd\n",
    "import matplotlib.pyplot as plt\n",
    "import seaborn as sns\n",
    "import warnings\n",
    "import itertools\n",
    "warnings.filterwarnings(\"ignore\")\n",
    "%matplotlib inline\n",
    "from PIL import Image"
   ]
  },
  {
   "cell_type": "markdown",
   "metadata": {
    "papermill": {
     "duration": 0.009305,
     "end_time": "2020-10-06T16:38:34.707414",
     "exception": false,
     "start_time": "2020-10-06T16:38:34.698109",
     "status": "completed"
    },
    "tags": []
   },
   "source": [
    "# Pulsar star"
   ]
  },
  {
   "cell_type": "code",
   "execution_count": 2,
   "metadata": {
    "_cell_guid": "79c7e3d0-c299-4dcb-8224-4455121ee9b0",
    "_uuid": "d629ff2d2480ee46fbb7e2d37f6b5fab8052498a",
    "execution": {
     "iopub.execute_input": "2020-10-06T16:38:34.733814Z",
     "iopub.status.busy": "2020-10-06T16:38:34.733349Z",
     "iopub.status.idle": "2020-10-06T16:38:34.797421Z",
     "shell.execute_reply": "2020-10-06T16:38:34.796951Z"
    },
    "papermill": {
     "duration": 0.080998,
     "end_time": "2020-10-06T16:38:34.797504",
     "exception": false,
     "start_time": "2020-10-06T16:38:34.716506",
     "status": "completed"
    },
    "tags": []
   },
   "outputs": [
    {
     "data": {
      "text/html": [
       "<div>\n",
       "<style scoped>\n",
       "    .dataframe tbody tr th:only-of-type {\n",
       "        vertical-align: middle;\n",
       "    }\n",
       "\n",
       "    .dataframe tbody tr th {\n",
       "        vertical-align: top;\n",
       "    }\n",
       "\n",
       "    .dataframe thead th {\n",
       "        text-align: right;\n",
       "    }\n",
       "</style>\n",
       "<table border=\"1\" class=\"dataframe\">\n",
       "  <thead>\n",
       "    <tr style=\"text-align: right;\">\n",
       "      <th></th>\n",
       "      <th>Mean of the integrated profile</th>\n",
       "      <th>Standard deviation of the integrated profile</th>\n",
       "      <th>Excess kurtosis of the integrated profile</th>\n",
       "      <th>Skewness of the integrated profile</th>\n",
       "      <th>Mean of the DM-SNR curve</th>\n",
       "      <th>Standard deviation of the DM-SNR curve</th>\n",
       "      <th>Excess kurtosis of the DM-SNR curve</th>\n",
       "      <th>Skewness of the DM-SNR curve</th>\n",
       "      <th>target_class</th>\n",
       "    </tr>\n",
       "  </thead>\n",
       "  <tbody>\n",
       "    <tr>\n",
       "      <th>0</th>\n",
       "      <td>140.562500</td>\n",
       "      <td>55.683782</td>\n",
       "      <td>-0.234571</td>\n",
       "      <td>-0.699648</td>\n",
       "      <td>3.199833</td>\n",
       "      <td>19.110426</td>\n",
       "      <td>7.975532</td>\n",
       "      <td>74.242225</td>\n",
       "      <td>0</td>\n",
       "    </tr>\n",
       "    <tr>\n",
       "      <th>1</th>\n",
       "      <td>102.507812</td>\n",
       "      <td>58.882430</td>\n",
       "      <td>0.465318</td>\n",
       "      <td>-0.515088</td>\n",
       "      <td>1.677258</td>\n",
       "      <td>14.860146</td>\n",
       "      <td>10.576487</td>\n",
       "      <td>127.393580</td>\n",
       "      <td>0</td>\n",
       "    </tr>\n",
       "    <tr>\n",
       "      <th>2</th>\n",
       "      <td>103.015625</td>\n",
       "      <td>39.341649</td>\n",
       "      <td>0.323328</td>\n",
       "      <td>1.051164</td>\n",
       "      <td>3.121237</td>\n",
       "      <td>21.744669</td>\n",
       "      <td>7.735822</td>\n",
       "      <td>63.171909</td>\n",
       "      <td>0</td>\n",
       "    </tr>\n",
       "    <tr>\n",
       "      <th>3</th>\n",
       "      <td>136.750000</td>\n",
       "      <td>57.178449</td>\n",
       "      <td>-0.068415</td>\n",
       "      <td>-0.636238</td>\n",
       "      <td>3.642977</td>\n",
       "      <td>20.959280</td>\n",
       "      <td>6.896499</td>\n",
       "      <td>53.593661</td>\n",
       "      <td>0</td>\n",
       "    </tr>\n",
       "    <tr>\n",
       "      <th>4</th>\n",
       "      <td>88.726562</td>\n",
       "      <td>40.672225</td>\n",
       "      <td>0.600866</td>\n",
       "      <td>1.123492</td>\n",
       "      <td>1.178930</td>\n",
       "      <td>11.468720</td>\n",
       "      <td>14.269573</td>\n",
       "      <td>252.567306</td>\n",
       "      <td>0</td>\n",
       "    </tr>\n",
       "  </tbody>\n",
       "</table>\n",
       "</div>"
      ],
      "text/plain": [
       "    Mean of the integrated profile  \\\n",
       "0                       140.562500   \n",
       "1                       102.507812   \n",
       "2                       103.015625   \n",
       "3                       136.750000   \n",
       "4                        88.726562   \n",
       "\n",
       "    Standard deviation of the integrated profile  \\\n",
       "0                                      55.683782   \n",
       "1                                      58.882430   \n",
       "2                                      39.341649   \n",
       "3                                      57.178449   \n",
       "4                                      40.672225   \n",
       "\n",
       "    Excess kurtosis of the integrated profile  \\\n",
       "0                                   -0.234571   \n",
       "1                                    0.465318   \n",
       "2                                    0.323328   \n",
       "3                                   -0.068415   \n",
       "4                                    0.600866   \n",
       "\n",
       "    Skewness of the integrated profile   Mean of the DM-SNR curve  \\\n",
       "0                            -0.699648                   3.199833   \n",
       "1                            -0.515088                   1.677258   \n",
       "2                             1.051164                   3.121237   \n",
       "3                            -0.636238                   3.642977   \n",
       "4                             1.123492                   1.178930   \n",
       "\n",
       "    Standard deviation of the DM-SNR curve  \\\n",
       "0                                19.110426   \n",
       "1                                14.860146   \n",
       "2                                21.744669   \n",
       "3                                20.959280   \n",
       "4                                11.468720   \n",
       "\n",
       "    Excess kurtosis of the DM-SNR curve   Skewness of the DM-SNR curve  \\\n",
       "0                              7.975532                      74.242225   \n",
       "1                             10.576487                     127.393580   \n",
       "2                              7.735822                      63.171909   \n",
       "3                              6.896499                      53.593661   \n",
       "4                             14.269573                     252.567306   \n",
       "\n",
       "   target_class  \n",
       "0             0  \n",
       "1             0  \n",
       "2             0  \n",
       "3             0  \n",
       "4             0  "
      ]
     },
     "execution_count": 2,
     "metadata": {},
     "output_type": "execute_result"
    }
   ],
   "source": [
    "data = pd.read_csv(r\"../input/hr2u-vae/pulsar_stars.csv\")\n",
    "data.head()"
   ]
  },
  {
   "cell_type": "code",
   "execution_count": 3,
   "metadata": {
    "execution": {
     "iopub.execute_input": "2020-10-06T16:38:34.824351Z",
     "iopub.status.busy": "2020-10-06T16:38:34.823872Z",
     "iopub.status.idle": "2020-10-06T16:38:34.842517Z",
     "shell.execute_reply": "2020-10-06T16:38:34.841920Z"
    },
    "papermill": {
     "duration": 0.034934,
     "end_time": "2020-10-06T16:38:34.842608",
     "exception": false,
     "start_time": "2020-10-06T16:38:34.807674",
     "status": "completed"
    },
    "tags": []
   },
   "outputs": [
    {
     "name": "stdout",
     "output_type": "stream",
     "text": [
      "<class 'pandas.core.frame.DataFrame'>\n",
      "RangeIndex: 17898 entries, 0 to 17897\n",
      "Data columns (total 9 columns):\n",
      " #   Column                                         Non-Null Count  Dtype  \n",
      "---  ------                                         --------------  -----  \n",
      " 0    Mean of the integrated profile                17898 non-null  float64\n",
      " 1    Standard deviation of the integrated profile  17898 non-null  float64\n",
      " 2    Excess kurtosis of the integrated profile     17898 non-null  float64\n",
      " 3    Skewness of the integrated profile            17898 non-null  float64\n",
      " 4    Mean of the DM-SNR curve                      17898 non-null  float64\n",
      " 5    Standard deviation of the DM-SNR curve        17898 non-null  float64\n",
      " 6    Excess kurtosis of the DM-SNR curve           17898 non-null  float64\n",
      " 7    Skewness of the DM-SNR curve                  17898 non-null  float64\n",
      " 8   target_class                                   17898 non-null  int64  \n",
      "dtypes: float64(8), int64(1)\n",
      "memory usage: 1.2 MB\n",
      "data info  : None\n",
      "******************************\n",
      "Missing values:\n",
      " Mean of the integrated profile                  0\n",
      " Standard deviation of the integrated profile    0\n",
      " Excess kurtosis of the integrated profile       0\n",
      " Skewness of the integrated profile              0\n",
      " Mean of the DM-SNR curve                        0\n",
      " Standard deviation of the DM-SNR curve          0\n",
      " Excess kurtosis of the DM-SNR curve             0\n",
      " Skewness of the DM-SNR curve                    0\n",
      "target_class                                     0\n",
      "dtype: int64\n"
     ]
    }
   ],
   "source": [
    "print(\"data info  :\",data.info())\n",
    "print(\"*\"*30)\n",
    "print(\"Missing values:\")\n",
    "print(data.isnull().sum())"
   ]
  },
  {
   "cell_type": "code",
   "execution_count": 4,
   "metadata": {
    "execution": {
     "iopub.execute_input": "2020-10-06T16:38:34.877642Z",
     "iopub.status.busy": "2020-10-06T16:38:34.877087Z",
     "iopub.status.idle": "2020-10-06T16:38:34.880218Z",
     "shell.execute_reply": "2020-10-06T16:38:34.879705Z"
    },
    "papermill": {
     "duration": 0.022616,
     "end_time": "2020-10-06T16:38:34.880298",
     "exception": false,
     "start_time": "2020-10-06T16:38:34.857682",
     "status": "completed"
    },
    "tags": []
   },
   "outputs": [],
   "source": [
    "data.columns = data.columns.str.strip()\n",
    "data.columns = ['IP Mean', 'IP Sd', 'IP Kurtosis', 'IP Skewness', \n",
    "              'DM-SNR Mean', 'DM-SNR Sd', 'DM-SNR Kurtosis', 'DM-SNR Skewness', 'target_class']"
   ]
  },
  {
   "cell_type": "code",
   "execution_count": 5,
   "metadata": {
    "execution": {
     "iopub.execute_input": "2020-10-06T16:38:34.906190Z",
     "iopub.status.busy": "2020-10-06T16:38:34.905559Z",
     "iopub.status.idle": "2020-10-06T16:38:34.934118Z",
     "shell.execute_reply": "2020-10-06T16:38:34.934568Z"
    },
    "papermill": {
     "duration": 0.04373,
     "end_time": "2020-10-06T16:38:34.934688",
     "exception": false,
     "start_time": "2020-10-06T16:38:34.890958",
     "status": "completed"
    },
    "tags": []
   },
   "outputs": [
    {
     "data": {
      "text/plain": [
       "0    0.908426\n",
       "1    0.091574\n",
       "Name: target_class, dtype: float64"
      ]
     },
     "execution_count": 5,
     "metadata": {},
     "output_type": "execute_result"
    }
   ],
   "source": [
    "# data['target_class'].value_counts()\n",
    "# view the percentage distribution of target_class column\n",
    "data['target_class'].value_counts()/np.float(len(data))"
   ]
  },
  {
   "cell_type": "code",
   "execution_count": 6,
   "metadata": {
    "execution": {
     "iopub.execute_input": "2020-10-06T16:38:34.965249Z",
     "iopub.status.busy": "2020-10-06T16:38:34.964689Z",
     "iopub.status.idle": "2020-10-06T16:38:34.995367Z",
     "shell.execute_reply": "2020-10-06T16:38:34.995682Z"
    },
    "papermill": {
     "duration": 0.049974,
     "end_time": "2020-10-06T16:38:34.995761",
     "exception": false,
     "start_time": "2020-10-06T16:38:34.945787",
     "status": "completed"
    },
    "tags": []
   },
   "outputs": [
    {
     "data": {
      "text/html": [
       "<div>\n",
       "<style scoped>\n",
       "    .dataframe tbody tr th:only-of-type {\n",
       "        vertical-align: middle;\n",
       "    }\n",
       "\n",
       "    .dataframe tbody tr th {\n",
       "        vertical-align: top;\n",
       "    }\n",
       "\n",
       "    .dataframe thead th {\n",
       "        text-align: right;\n",
       "    }\n",
       "</style>\n",
       "<table border=\"1\" class=\"dataframe\">\n",
       "  <thead>\n",
       "    <tr style=\"text-align: right;\">\n",
       "      <th></th>\n",
       "      <th>IP Mean</th>\n",
       "      <th>IP Sd</th>\n",
       "      <th>IP Kurtosis</th>\n",
       "      <th>IP Skewness</th>\n",
       "      <th>DM-SNR Mean</th>\n",
       "      <th>DM-SNR Sd</th>\n",
       "      <th>DM-SNR Kurtosis</th>\n",
       "      <th>DM-SNR Skewness</th>\n",
       "      <th>target_class</th>\n",
       "    </tr>\n",
       "  </thead>\n",
       "  <tbody>\n",
       "    <tr>\n",
       "      <th>count</th>\n",
       "      <td>17898.000</td>\n",
       "      <td>17898.000</td>\n",
       "      <td>17898.000</td>\n",
       "      <td>17898.000</td>\n",
       "      <td>17898.000</td>\n",
       "      <td>17898.000</td>\n",
       "      <td>17898.000</td>\n",
       "      <td>17898.000</td>\n",
       "      <td>17898.000</td>\n",
       "    </tr>\n",
       "    <tr>\n",
       "      <th>mean</th>\n",
       "      <td>111.080</td>\n",
       "      <td>46.550</td>\n",
       "      <td>0.478</td>\n",
       "      <td>1.770</td>\n",
       "      <td>12.614</td>\n",
       "      <td>26.327</td>\n",
       "      <td>8.304</td>\n",
       "      <td>104.858</td>\n",
       "      <td>0.092</td>\n",
       "    </tr>\n",
       "    <tr>\n",
       "      <th>std</th>\n",
       "      <td>25.653</td>\n",
       "      <td>6.843</td>\n",
       "      <td>1.064</td>\n",
       "      <td>6.168</td>\n",
       "      <td>29.473</td>\n",
       "      <td>19.471</td>\n",
       "      <td>4.506</td>\n",
       "      <td>106.515</td>\n",
       "      <td>0.288</td>\n",
       "    </tr>\n",
       "    <tr>\n",
       "      <th>min</th>\n",
       "      <td>5.812</td>\n",
       "      <td>24.772</td>\n",
       "      <td>-1.876</td>\n",
       "      <td>-1.792</td>\n",
       "      <td>0.213</td>\n",
       "      <td>7.370</td>\n",
       "      <td>-3.139</td>\n",
       "      <td>-1.977</td>\n",
       "      <td>0.000</td>\n",
       "    </tr>\n",
       "    <tr>\n",
       "      <th>25%</th>\n",
       "      <td>100.930</td>\n",
       "      <td>42.376</td>\n",
       "      <td>0.027</td>\n",
       "      <td>-0.189</td>\n",
       "      <td>1.923</td>\n",
       "      <td>14.437</td>\n",
       "      <td>5.782</td>\n",
       "      <td>34.961</td>\n",
       "      <td>0.000</td>\n",
       "    </tr>\n",
       "    <tr>\n",
       "      <th>50%</th>\n",
       "      <td>115.078</td>\n",
       "      <td>46.947</td>\n",
       "      <td>0.223</td>\n",
       "      <td>0.199</td>\n",
       "      <td>2.802</td>\n",
       "      <td>18.461</td>\n",
       "      <td>8.434</td>\n",
       "      <td>83.065</td>\n",
       "      <td>0.000</td>\n",
       "    </tr>\n",
       "    <tr>\n",
       "      <th>75%</th>\n",
       "      <td>127.086</td>\n",
       "      <td>51.023</td>\n",
       "      <td>0.473</td>\n",
       "      <td>0.928</td>\n",
       "      <td>5.464</td>\n",
       "      <td>28.428</td>\n",
       "      <td>10.703</td>\n",
       "      <td>139.309</td>\n",
       "      <td>0.000</td>\n",
       "    </tr>\n",
       "    <tr>\n",
       "      <th>max</th>\n",
       "      <td>192.617</td>\n",
       "      <td>98.779</td>\n",
       "      <td>8.070</td>\n",
       "      <td>68.102</td>\n",
       "      <td>223.392</td>\n",
       "      <td>110.642</td>\n",
       "      <td>34.540</td>\n",
       "      <td>1191.001</td>\n",
       "      <td>1.000</td>\n",
       "    </tr>\n",
       "  </tbody>\n",
       "</table>\n",
       "</div>"
      ],
      "text/plain": [
       "         IP Mean      IP Sd  IP Kurtosis  IP Skewness  DM-SNR Mean  DM-SNR Sd  \\\n",
       "count  17898.000  17898.000    17898.000    17898.000    17898.000  17898.000   \n",
       "mean     111.080     46.550        0.478        1.770       12.614     26.327   \n",
       "std       25.653      6.843        1.064        6.168       29.473     19.471   \n",
       "min        5.812     24.772       -1.876       -1.792        0.213      7.370   \n",
       "25%      100.930     42.376        0.027       -0.189        1.923     14.437   \n",
       "50%      115.078     46.947        0.223        0.199        2.802     18.461   \n",
       "75%      127.086     51.023        0.473        0.928        5.464     28.428   \n",
       "max      192.617     98.779        8.070       68.102      223.392    110.642   \n",
       "\n",
       "       DM-SNR Kurtosis  DM-SNR Skewness  target_class  \n",
       "count        17898.000        17898.000     17898.000  \n",
       "mean             8.304          104.858         0.092  \n",
       "std              4.506          106.515         0.288  \n",
       "min             -3.139           -1.977         0.000  \n",
       "25%              5.782           34.961         0.000  \n",
       "50%              8.434           83.065         0.000  \n",
       "75%             10.703          139.309         0.000  \n",
       "max             34.540         1191.001         1.000  "
      ]
     },
     "execution_count": 6,
     "metadata": {},
     "output_type": "execute_result"
    }
   ],
   "source": [
    "round(data.describe(),3)"
   ]
  },
  {
   "cell_type": "markdown",
   "metadata": {
    "papermill": {
     "duration": 0.010776,
     "end_time": "2020-10-06T16:38:35.017289",
     "exception": false,
     "start_time": "2020-10-06T16:38:35.006513",
     "status": "completed"
    },
    "tags": []
   },
   "source": [
    "## Data split"
   ]
  },
  {
   "cell_type": "code",
   "execution_count": 7,
   "metadata": {
    "execution": {
     "iopub.execute_input": "2020-10-06T16:38:35.044220Z",
     "iopub.status.busy": "2020-10-06T16:38:35.043771Z",
     "iopub.status.idle": "2020-10-06T16:38:35.046474Z",
     "shell.execute_reply": "2020-10-06T16:38:35.046942Z"
    },
    "papermill": {
     "duration": 0.018892,
     "end_time": "2020-10-06T16:38:35.047077",
     "exception": false,
     "start_time": "2020-10-06T16:38:35.028185",
     "status": "completed"
    },
    "tags": []
   },
   "outputs": [],
   "source": [
    "X = data.drop(['target_class'], axis=1)\n",
    "\n",
    "y = data['target_class']"
   ]
  },
  {
   "cell_type": "code",
   "execution_count": 8,
   "metadata": {
    "execution": {
     "iopub.execute_input": "2020-10-06T16:38:35.084589Z",
     "iopub.status.busy": "2020-10-06T16:38:35.083975Z",
     "iopub.status.idle": "2020-10-06T16:38:35.212408Z",
     "shell.execute_reply": "2020-10-06T16:38:35.211759Z"
    },
    "papermill": {
     "duration": 0.148806,
     "end_time": "2020-10-06T16:38:35.212508",
     "exception": false,
     "start_time": "2020-10-06T16:38:35.063702",
     "status": "completed"
    },
    "tags": []
   },
   "outputs": [],
   "source": [
    "from sklearn.model_selection import train_test_split\n",
    "\n",
    "X_train, X_test, y_train, y_test = train_test_split(X, y, test_size = 0.2, random_state = 0)"
   ]
  },
  {
   "cell_type": "code",
   "execution_count": 9,
   "metadata": {
    "execution": {
     "iopub.execute_input": "2020-10-06T16:38:35.251294Z",
     "iopub.status.busy": "2020-10-06T16:38:35.250661Z",
     "iopub.status.idle": "2020-10-06T16:38:35.254976Z",
     "shell.execute_reply": "2020-10-06T16:38:35.254469Z"
    },
    "papermill": {
     "duration": 0.025387,
     "end_time": "2020-10-06T16:38:35.255109",
     "exception": false,
     "start_time": "2020-10-06T16:38:35.229722",
     "status": "completed"
    },
    "tags": []
   },
   "outputs": [
    {
     "data": {
      "text/plain": [
       "((14318, 8), (3580, 8))"
      ]
     },
     "execution_count": 9,
     "metadata": {},
     "output_type": "execute_result"
    }
   ],
   "source": [
    "X_train.shape, X_test.shape"
   ]
  },
  {
   "cell_type": "code",
   "execution_count": 10,
   "metadata": {
    "execution": {
     "iopub.execute_input": "2020-10-06T16:38:35.294585Z",
     "iopub.status.busy": "2020-10-06T16:38:35.293816Z",
     "iopub.status.idle": "2020-10-06T16:38:35.297682Z",
     "shell.execute_reply": "2020-10-06T16:38:35.297198Z"
    },
    "papermill": {
     "duration": 0.025031,
     "end_time": "2020-10-06T16:38:35.297765",
     "exception": false,
     "start_time": "2020-10-06T16:38:35.272734",
     "status": "completed"
    },
    "tags": []
   },
   "outputs": [
    {
     "data": {
      "text/plain": [
       "(14318,)"
      ]
     },
     "execution_count": 10,
     "metadata": {},
     "output_type": "execute_result"
    }
   ],
   "source": [
    "y_train.shape"
   ]
  },
  {
   "cell_type": "code",
   "execution_count": 11,
   "metadata": {
    "execution": {
     "iopub.execute_input": "2020-10-06T16:38:35.329159Z",
     "iopub.status.busy": "2020-10-06T16:38:35.328317Z",
     "iopub.status.idle": "2020-10-06T16:38:35.335275Z",
     "shell.execute_reply": "2020-10-06T16:38:35.334770Z"
    },
    "papermill": {
     "duration": 0.025302,
     "end_time": "2020-10-06T16:38:35.335374",
     "exception": false,
     "start_time": "2020-10-06T16:38:35.310072",
     "status": "completed"
    },
    "tags": []
   },
   "outputs": [],
   "source": [
    "from sklearn.preprocessing import StandardScaler, MinMaxScaler\n",
    "\n",
    "cols = X_train.columns\n",
    "\n",
    "# scaler = StandardScaler()\n",
    "\n",
    "# X_train = scaler.fit_transform(X_train)\n",
    "\n",
    "# X_test = scaler.transform(X_test)\n",
    "\n",
    "scaler = MinMaxScaler()\n",
    "X_train = scaler.fit_transform(X_train)\n",
    "X_test = scaler.transform(X_test)"
   ]
  },
  {
   "cell_type": "code",
   "execution_count": 12,
   "metadata": {
    "execution": {
     "iopub.execute_input": "2020-10-06T16:38:35.377293Z",
     "iopub.status.busy": "2020-10-06T16:38:35.376751Z",
     "iopub.status.idle": "2020-10-06T16:38:35.380939Z",
     "shell.execute_reply": "2020-10-06T16:38:35.380437Z"
    },
    "papermill": {
     "duration": 0.027453,
     "end_time": "2020-10-06T16:38:35.381050",
     "exception": false,
     "start_time": "2020-10-06T16:38:35.353597",
     "status": "completed"
    },
    "tags": []
   },
   "outputs": [],
   "source": [
    "X_train = pd.DataFrame(X_train, columns=[cols])\n",
    "X_test = pd.DataFrame(X_test, columns=[cols])"
   ]
  },
  {
   "cell_type": "code",
   "execution_count": 13,
   "metadata": {
    "execution": {
     "iopub.execute_input": "2020-10-06T16:38:35.426663Z",
     "iopub.status.busy": "2020-10-06T16:38:35.426079Z",
     "iopub.status.idle": "2020-10-06T16:38:35.454605Z",
     "shell.execute_reply": "2020-10-06T16:38:35.454087Z"
    },
    "papermill": {
     "duration": 0.055272,
     "end_time": "2020-10-06T16:38:35.454699",
     "exception": false,
     "start_time": "2020-10-06T16:38:35.399427",
     "status": "completed"
    },
    "tags": []
   },
   "outputs": [
    {
     "data": {
      "text/html": [
       "<div>\n",
       "<style scoped>\n",
       "    .dataframe tbody tr th:only-of-type {\n",
       "        vertical-align: middle;\n",
       "    }\n",
       "\n",
       "    .dataframe tbody tr th {\n",
       "        vertical-align: top;\n",
       "    }\n",
       "\n",
       "    .dataframe thead tr th {\n",
       "        text-align: left;\n",
       "    }\n",
       "</style>\n",
       "<table border=\"1\" class=\"dataframe\">\n",
       "  <thead>\n",
       "    <tr>\n",
       "      <th></th>\n",
       "      <th>IP Mean</th>\n",
       "      <th>IP Sd</th>\n",
       "      <th>IP Kurtosis</th>\n",
       "      <th>IP Skewness</th>\n",
       "      <th>DM-SNR Mean</th>\n",
       "      <th>DM-SNR Sd</th>\n",
       "      <th>DM-SNR Kurtosis</th>\n",
       "      <th>DM-SNR Skewness</th>\n",
       "    </tr>\n",
       "  </thead>\n",
       "  <tbody>\n",
       "    <tr>\n",
       "      <th>count</th>\n",
       "      <td>14318.000000</td>\n",
       "      <td>14318.000000</td>\n",
       "      <td>14318.000000</td>\n",
       "      <td>14318.000000</td>\n",
       "      <td>14318.000000</td>\n",
       "      <td>14318.000000</td>\n",
       "      <td>14318.000000</td>\n",
       "      <td>14318.000000</td>\n",
       "    </tr>\n",
       "    <tr>\n",
       "      <th>mean</th>\n",
       "      <td>0.561470</td>\n",
       "      <td>0.294481</td>\n",
       "      <td>0.237736</td>\n",
       "      <td>0.051661</td>\n",
       "      <td>0.056903</td>\n",
       "      <td>0.184856</td>\n",
       "      <td>0.296784</td>\n",
       "      <td>0.089196</td>\n",
       "    </tr>\n",
       "    <tr>\n",
       "      <th>std</th>\n",
       "      <td>0.139138</td>\n",
       "      <td>0.092577</td>\n",
       "      <td>0.108760</td>\n",
       "      <td>0.089942</td>\n",
       "      <td>0.134242</td>\n",
       "      <td>0.189920</td>\n",
       "      <td>0.120862</td>\n",
       "      <td>0.088896</td>\n",
       "    </tr>\n",
       "    <tr>\n",
       "      <th>min</th>\n",
       "      <td>0.000000</td>\n",
       "      <td>0.000000</td>\n",
       "      <td>0.000000</td>\n",
       "      <td>0.000000</td>\n",
       "      <td>0.000000</td>\n",
       "      <td>0.000000</td>\n",
       "      <td>0.000000</td>\n",
       "      <td>0.000000</td>\n",
       "    </tr>\n",
       "    <tr>\n",
       "      <th>25%</th>\n",
       "      <td>0.507260</td>\n",
       "      <td>0.238294</td>\n",
       "      <td>0.191447</td>\n",
       "      <td>0.022988</td>\n",
       "      <td>0.007706</td>\n",
       "      <td>0.068526</td>\n",
       "      <td>0.228607</td>\n",
       "      <td>0.030281</td>\n",
       "    </tr>\n",
       "    <tr>\n",
       "      <th>50%</th>\n",
       "      <td>0.583557</td>\n",
       "      <td>0.299894</td>\n",
       "      <td>0.211056</td>\n",
       "      <td>0.028474</td>\n",
       "      <td>0.011634</td>\n",
       "      <td>0.107609</td>\n",
       "      <td>0.300615</td>\n",
       "      <td>0.070892</td>\n",
       "    </tr>\n",
       "    <tr>\n",
       "      <th>75%</th>\n",
       "      <td>0.648665</td>\n",
       "      <td>0.354664</td>\n",
       "      <td>0.236647</td>\n",
       "      <td>0.038893</td>\n",
       "      <td>0.023831</td>\n",
       "      <td>0.205347</td>\n",
       "      <td>0.361597</td>\n",
       "      <td>0.118141</td>\n",
       "    </tr>\n",
       "    <tr>\n",
       "      <th>max</th>\n",
       "      <td>1.000000</td>\n",
       "      <td>1.000000</td>\n",
       "      <td>1.000000</td>\n",
       "      <td>1.000000</td>\n",
       "      <td>1.000000</td>\n",
       "      <td>1.000000</td>\n",
       "      <td>1.000000</td>\n",
       "      <td>1.000000</td>\n",
       "    </tr>\n",
       "  </tbody>\n",
       "</table>\n",
       "</div>"
      ],
      "text/plain": [
       "            IP Mean         IP Sd   IP Kurtosis   IP Skewness   DM-SNR Mean  \\\n",
       "count  14318.000000  14318.000000  14318.000000  14318.000000  14318.000000   \n",
       "mean       0.561470      0.294481      0.237736      0.051661      0.056903   \n",
       "std        0.139138      0.092577      0.108760      0.089942      0.134242   \n",
       "min        0.000000      0.000000      0.000000      0.000000      0.000000   \n",
       "25%        0.507260      0.238294      0.191447      0.022988      0.007706   \n",
       "50%        0.583557      0.299894      0.211056      0.028474      0.011634   \n",
       "75%        0.648665      0.354664      0.236647      0.038893      0.023831   \n",
       "max        1.000000      1.000000      1.000000      1.000000      1.000000   \n",
       "\n",
       "          DM-SNR Sd DM-SNR Kurtosis DM-SNR Skewness  \n",
       "count  14318.000000    14318.000000    14318.000000  \n",
       "mean       0.184856        0.296784        0.089196  \n",
       "std        0.189920        0.120862        0.088896  \n",
       "min        0.000000        0.000000        0.000000  \n",
       "25%        0.068526        0.228607        0.030281  \n",
       "50%        0.107609        0.300615        0.070892  \n",
       "75%        0.205347        0.361597        0.118141  \n",
       "max        1.000000        1.000000        1.000000  "
      ]
     },
     "execution_count": 13,
     "metadata": {},
     "output_type": "execute_result"
    }
   ],
   "source": [
    "X_train.describe()"
   ]
  },
  {
   "cell_type": "code",
   "execution_count": 14,
   "metadata": {
    "execution": {
     "iopub.execute_input": "2020-10-06T16:38:35.503623Z",
     "iopub.status.busy": "2020-10-06T16:38:35.501484Z",
     "iopub.status.idle": "2020-10-06T16:38:35.507232Z",
     "shell.execute_reply": "2020-10-06T16:38:35.506727Z"
    },
    "papermill": {
     "duration": 0.033434,
     "end_time": "2020-10-06T16:38:35.507316",
     "exception": false,
     "start_time": "2020-10-06T16:38:35.473882",
     "status": "completed"
    },
    "tags": []
   },
   "outputs": [],
   "source": [
    "from sklearn.metrics import classification_report,confusion_matrix,accuracy_score,roc_curve,auc\n",
    "\n",
    "def model(algorithm,dtrain_x,dtrain_y,dtest_x,dtest_y):\n",
    "    \n",
    "    print (\"MODEL - OUTPUT\")\n",
    "    print (\"*****************************************************************************************\")\n",
    "    algorithm.fit(dtrain_x,dtrain_y)\n",
    "    predictions = algorithm.predict(dtest_x)\n",
    "    \n",
    "    print (algorithm)\n",
    "    print (\"\\naccuracy_score :\",accuracy_score(dtest_y,predictions))\n",
    "    \n",
    "    print (\"\\nclassification report :\\n\",(classification_report(dtest_y,predictions)))\n",
    "    from sklearn.metrics import matthews_corrcoef\n",
    "    print (\"\\nmatthews_corrcoef:\\n\", (matthews_corrcoef(dtest_y, predictions)))\n",
    "        \n",
    "    plt.figure(figsize=(13,10))\n",
    "    plt.subplot(221)\n",
    "    sns.heatmap(confusion_matrix(dtest_y,predictions),annot=True,fmt = \"d\",linecolor=\"k\",linewidths=3)\n",
    "    plt.title(\"CONFUSION MATRIX\",fontsize=20)\n",
    "    \n",
    "    predicting_probabilites = algorithm.predict_proba(dtest_x)[:,1]\n",
    "    fpr,tpr,thresholds = roc_curve(dtest_y,predicting_probabilites)\n",
    "    plt.subplot(222)\n",
    "    plt.plot(fpr,tpr,label = (\"Area_under the curve :\",auc(fpr,tpr)),color = \"r\")\n",
    "    plt.plot([1,0],[1,0],linestyle = \"dashed\",color =\"k\")\n",
    "    plt.legend(loc = \"best\")\n",
    "    plt.title(\"ROC - CURVE & AREA UNDER CURVE\",fontsize=20)\n",
    "\n",
    "    "
   ]
  },
  {
   "cell_type": "markdown",
   "metadata": {
    "papermill": {
     "duration": 0.012266,
     "end_time": "2020-10-06T16:38:35.532371",
     "exception": false,
     "start_time": "2020-10-06T16:38:35.520105",
     "status": "completed"
    },
    "tags": []
   },
   "source": [
    "## Fit SVC"
   ]
  },
  {
   "cell_type": "code",
   "execution_count": 15,
   "metadata": {
    "execution": {
     "iopub.execute_input": "2020-10-06T16:38:35.562013Z",
     "iopub.status.busy": "2020-10-06T16:38:35.561556Z",
     "iopub.status.idle": "2020-10-06T16:38:39.291622Z",
     "shell.execute_reply": "2020-10-06T16:38:39.291960Z"
    },
    "papermill": {
     "duration": 3.746952,
     "end_time": "2020-10-06T16:38:39.292104",
     "exception": false,
     "start_time": "2020-10-06T16:38:35.545152",
     "status": "completed"
    },
    "tags": []
   },
   "outputs": [
    {
     "name": "stdout",
     "output_type": "stream",
     "text": [
      "MODEL - OUTPUT\n",
      "*****************************************************************************************\n",
      "SVC(probability=True)\n",
      "\n",
      "accuracy_score : 0.9818435754189944\n",
      "\n",
      "classification report :\n",
      "               precision    recall  f1-score   support\n",
      "\n",
      "           0       0.99      0.99      0.99      3306\n",
      "           1       0.93      0.83      0.87       274\n",
      "\n",
      "    accuracy                           0.98      3580\n",
      "   macro avg       0.96      0.91      0.93      3580\n",
      "weighted avg       0.98      0.98      0.98      3580\n",
      "\n",
      "\n",
      "matthews_corrcoef:\n",
      " 0.8665775957943025\n"
     ]
    },
    {
     "data": {
      "image/png": "[encoded data removed]",
      "text/plain": [
       "<Figure size 936x720 with 3 Axes>"
      ]
     },
     "metadata": {
      "needs_background": "light"
     },
     "output_type": "display_data"
    }
   ],
   "source": [
    "# import SVC classifier\n",
    "from sklearn.svm import SVC\n",
    "\n",
    "\n",
    "# import metrics to compute accuracy\n",
    "from sklearn.metrics import accuracy_score\n",
    "\n",
    "\n",
    "# instantiate classifier with default hyperparameters\n",
    "svc=SVC(probability=True) \n",
    "\n",
    "model(svc ,X_train,y_train,X_test,y_test)"
   ]
  },
  {
   "cell_type": "markdown",
   "metadata": {
    "papermill": {
     "duration": 0.013676,
     "end_time": "2020-10-06T16:38:39.320074",
     "exception": false,
     "start_time": "2020-10-06T16:38:39.306398",
     "status": "completed"
    },
    "tags": []
   },
   "source": [
    "# Fit DT"
   ]
  },
  {
   "cell_type": "code",
   "execution_count": 16,
   "metadata": {
    "execution": {
     "iopub.execute_input": "2020-10-06T16:38:39.351618Z",
     "iopub.status.busy": "2020-10-06T16:38:39.351153Z",
     "iopub.status.idle": "2020-10-06T16:38:40.005843Z",
     "shell.execute_reply": "2020-10-06T16:38:40.005238Z"
    },
    "papermill": {
     "duration": 0.672118,
     "end_time": "2020-10-06T16:38:40.005921",
     "exception": false,
     "start_time": "2020-10-06T16:38:39.333803",
     "status": "completed"
    },
    "tags": []
   },
   "outputs": [
    {
     "name": "stdout",
     "output_type": "stream",
     "text": [
      "MODEL - OUTPUT\n",
      "*****************************************************************************************\n",
      "DecisionTreeClassifier()\n",
      "\n",
      "accuracy_score : 0.9681564245810056\n",
      "\n",
      "classification report :\n",
      "               precision    recall  f1-score   support\n",
      "\n",
      "           0       0.99      0.98      0.98      3306\n",
      "           1       0.77      0.83      0.80       274\n",
      "\n",
      "    accuracy                           0.97      3580\n",
      "   macro avg       0.88      0.91      0.89      3580\n",
      "weighted avg       0.97      0.97      0.97      3580\n",
      "\n",
      "\n",
      "matthews_corrcoef:\n",
      " 0.783418016847891\n"
     ]
    },
    {
     "data": {
      "image/png": "[encoded data removed]",
      "text/plain": [
       "<Figure size 936x720 with 3 Axes>"
      ]
     },
     "metadata": {
      "needs_background": "light"
     },
     "output_type": "display_data"
    }
   ],
   "source": [
    "from sklearn.tree import DecisionTreeClassifier\n",
    "\n",
    "clf = DecisionTreeClassifier()\n",
    "model(clf ,X_train,y_train,X_test,y_test)"
   ]
  },
  {
   "cell_type": "markdown",
   "metadata": {
    "papermill": {
     "duration": 0.015784,
     "end_time": "2020-10-06T16:38:40.037746",
     "exception": false,
     "start_time": "2020-10-06T16:38:40.021962",
     "status": "completed"
    },
    "tags": []
   },
   "source": []
  }
 ],
 "metadata": {
  "kernelspec": {
   "display_name": "Python 3",
   "language": "python",
   "name": "python3"
  },
  "language_info": {
   "codemirror_mode": {
    "name": "ipython",
    "version": 3
   },
   "file_extension": ".py",
   "mimetype": "text/x-python",
   "name": "python",
   "nbconvert_exporter": "python",
   "pygments_lexer": "ipython3",
   "version": "3.7.6"
  },
  "papermill": {
   "duration": 10.513798,
   "end_time": "2020-10-06T16:38:40.160237",
   "environment_variables": {},
   "exception": null,
   "input_path": "__notebook__.ipynb",
   "output_path": "__notebook__.ipynb",
   "parameters": {},
   "start_time": "2020-10-06T16:38:29.646439",
   "version": "2.1.0"
  }
 },
 "nbformat": 4,
 "nbformat_minor": 4
}
