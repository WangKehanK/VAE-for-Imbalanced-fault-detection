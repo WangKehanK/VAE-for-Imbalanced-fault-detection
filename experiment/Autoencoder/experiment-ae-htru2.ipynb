{
 "cells": [
  {
   "cell_type": "code",
   "execution_count": 26,
   "metadata": {
    "execution": {
     "iopub.execute_input": "2020-10-06T16:38:33.736274Z",
     "iopub.status.busy": "2020-10-06T16:38:33.735828Z",
     "iopub.status.idle": "2020-10-06T16:38:34.687606Z",
     "shell.execute_reply": "2020-10-06T16:38:34.687173Z"
    },
    "papermill": {
     "duration": 0.971296,
     "end_time": "2020-10-06T16:38:34.687691",
     "exception": false,
     "start_time": "2020-10-06T16:38:33.716395",
     "status": "completed"
    },
    "tags": []
   },
   "outputs": [],
   "source": [
    "import numpy as np\n",
    "import pandas as pd\n",
    "import matplotlib.pyplot as plt\n",
    "import seaborn as sns\n",
    "import warnings\n",
    "import random\n",
    "def seed_everything(seed=2020):\n",
    "    random.seed(seed)\n",
    "    np.random.seed(seed)\n",
    "seed_everything(42)\n",
    "\n",
    "warnings.filterwarnings(\"ignore\")\n",
    "%matplotlib inline"
   ]
  },
  {
   "cell_type": "markdown",
   "metadata": {
    "papermill": {
     "duration": 0.009305,
     "end_time": "2020-10-06T16:38:34.707414",
     "exception": false,
     "start_time": "2020-10-06T16:38:34.698109",
     "status": "completed"
    },
    "tags": []
   },
   "source": [
    "# Pulsar star"
   ]
  },
  {
   "cell_type": "code",
   "execution_count": 27,
   "metadata": {
    "_cell_guid": "79c7e3d0-c299-4dcb-8224-4455121ee9b0",
    "_uuid": "d629ff2d2480ee46fbb7e2d37f6b5fab8052498a",
    "execution": {
     "iopub.execute_input": "2020-10-06T16:38:34.733814Z",
     "iopub.status.busy": "2020-10-06T16:38:34.733349Z",
     "iopub.status.idle": "2020-10-06T16:38:34.797421Z",
     "shell.execute_reply": "2020-10-06T16:38:34.796951Z"
    },
    "papermill": {
     "duration": 0.080998,
     "end_time": "2020-10-06T16:38:34.797504",
     "exception": false,
     "start_time": "2020-10-06T16:38:34.716506",
     "status": "completed"
    },
    "tags": []
   },
   "outputs": [
    {
     "data": {
      "text/html": [
       "<div>\n",
       "<style scoped>\n",
       "    .dataframe tbody tr th:only-of-type {\n",
       "        vertical-align: middle;\n",
       "    }\n",
       "\n",
       "    .dataframe tbody tr th {\n",
       "        vertical-align: top;\n",
       "    }\n",
       "\n",
       "    .dataframe thead th {\n",
       "        text-align: right;\n",
       "    }\n",
       "</style>\n",
       "<table border=\"1\" class=\"dataframe\">\n",
       "  <thead>\n",
       "    <tr style=\"text-align: right;\">\n",
       "      <th></th>\n",
       "      <th>Mean of the integrated profile</th>\n",
       "      <th>Standard deviation of the integrated profile</th>\n",
       "      <th>Excess kurtosis of the integrated profile</th>\n",
       "      <th>Skewness of the integrated profile</th>\n",
       "      <th>Mean of the DM-SNR curve</th>\n",
       "      <th>Standard deviation of the DM-SNR curve</th>\n",
       "      <th>Excess kurtosis of the DM-SNR curve</th>\n",
       "      <th>Skewness of the DM-SNR curve</th>\n",
       "      <th>target_class</th>\n",
       "    </tr>\n",
       "  </thead>\n",
       "  <tbody>\n",
       "    <tr>\n",
       "      <th>0</th>\n",
       "      <td>140.562500</td>\n",
       "      <td>55.683782</td>\n",
       "      <td>-0.234571</td>\n",
       "      <td>-0.699648</td>\n",
       "      <td>3.199833</td>\n",
       "      <td>19.110426</td>\n",
       "      <td>7.975532</td>\n",
       "      <td>74.242225</td>\n",
       "      <td>0</td>\n",
       "    </tr>\n",
       "    <tr>\n",
       "      <th>1</th>\n",
       "      <td>102.507812</td>\n",
       "      <td>58.882430</td>\n",
       "      <td>0.465318</td>\n",
       "      <td>-0.515088</td>\n",
       "      <td>1.677258</td>\n",
       "      <td>14.860146</td>\n",
       "      <td>10.576487</td>\n",
       "      <td>127.393580</td>\n",
       "      <td>0</td>\n",
       "    </tr>\n",
       "    <tr>\n",
       "      <th>2</th>\n",
       "      <td>103.015625</td>\n",
       "      <td>39.341649</td>\n",
       "      <td>0.323328</td>\n",
       "      <td>1.051164</td>\n",
       "      <td>3.121237</td>\n",
       "      <td>21.744669</td>\n",
       "      <td>7.735822</td>\n",
       "      <td>63.171909</td>\n",
       "      <td>0</td>\n",
       "    </tr>\n",
       "    <tr>\n",
       "      <th>3</th>\n",
       "      <td>136.750000</td>\n",
       "      <td>57.178449</td>\n",
       "      <td>-0.068415</td>\n",
       "      <td>-0.636238</td>\n",
       "      <td>3.642977</td>\n",
       "      <td>20.959280</td>\n",
       "      <td>6.896499</td>\n",
       "      <td>53.593661</td>\n",
       "      <td>0</td>\n",
       "    </tr>\n",
       "    <tr>\n",
       "      <th>4</th>\n",
       "      <td>88.726562</td>\n",
       "      <td>40.672225</td>\n",
       "      <td>0.600866</td>\n",
       "      <td>1.123492</td>\n",
       "      <td>1.178930</td>\n",
       "      <td>11.468720</td>\n",
       "      <td>14.269573</td>\n",
       "      <td>252.567306</td>\n",
       "      <td>0</td>\n",
       "    </tr>\n",
       "  </tbody>\n",
       "</table>\n",
       "</div>"
      ],
      "text/plain": [
       "    Mean of the integrated profile  \\\n",
       "0                       140.562500   \n",
       "1                       102.507812   \n",
       "2                       103.015625   \n",
       "3                       136.750000   \n",
       "4                        88.726562   \n",
       "\n",
       "    Standard deviation of the integrated profile  \\\n",
       "0                                      55.683782   \n",
       "1                                      58.882430   \n",
       "2                                      39.341649   \n",
       "3                                      57.178449   \n",
       "4                                      40.672225   \n",
       "\n",
       "    Excess kurtosis of the integrated profile  \\\n",
       "0                                   -0.234571   \n",
       "1                                    0.465318   \n",
       "2                                    0.323328   \n",
       "3                                   -0.068415   \n",
       "4                                    0.600866   \n",
       "\n",
       "    Skewness of the integrated profile   Mean of the DM-SNR curve  \\\n",
       "0                            -0.699648                   3.199833   \n",
       "1                            -0.515088                   1.677258   \n",
       "2                             1.051164                   3.121237   \n",
       "3                            -0.636238                   3.642977   \n",
       "4                             1.123492                   1.178930   \n",
       "\n",
       "    Standard deviation of the DM-SNR curve  \\\n",
       "0                                19.110426   \n",
       "1                                14.860146   \n",
       "2                                21.744669   \n",
       "3                                20.959280   \n",
       "4                                11.468720   \n",
       "\n",
       "    Excess kurtosis of the DM-SNR curve   Skewness of the DM-SNR curve  \\\n",
       "0                              7.975532                      74.242225   \n",
       "1                             10.576487                     127.393580   \n",
       "2                              7.735822                      63.171909   \n",
       "3                              6.896499                      53.593661   \n",
       "4                             14.269573                     252.567306   \n",
       "\n",
       "   target_class  \n",
       "0             0  \n",
       "1             0  \n",
       "2             0  \n",
       "3             0  \n",
       "4             0  "
      ]
     },
     "execution_count": 27,
     "metadata": {},
     "output_type": "execute_result"
    }
   ],
   "source": [
    "data = pd.read_csv(\"../../data/pulsar_stars.csv\")\n",
    "data.head()"
   ]
  },
  {
   "cell_type": "code",
   "execution_count": 28,
   "metadata": {},
   "outputs": [
    {
     "data": {
      "text/plain": [
       "(17898, 9)"
      ]
     },
     "execution_count": 28,
     "metadata": {},
     "output_type": "execute_result"
    }
   ],
   "source": [
    "data.shape"
   ]
  },
  {
   "cell_type": "code",
   "execution_count": 29,
   "metadata": {
    "execution": {
     "iopub.execute_input": "2020-10-06T16:38:34.877642Z",
     "iopub.status.busy": "2020-10-06T16:38:34.877087Z",
     "iopub.status.idle": "2020-10-06T16:38:34.880218Z",
     "shell.execute_reply": "2020-10-06T16:38:34.879705Z"
    },
    "papermill": {
     "duration": 0.022616,
     "end_time": "2020-10-06T16:38:34.880298",
     "exception": false,
     "start_time": "2020-10-06T16:38:34.857682",
     "status": "completed"
    },
    "tags": []
   },
   "outputs": [],
   "source": [
    "data.columns = data.columns.str.strip()\n",
    "data.columns = ['IP Mean', 'IP Sd', 'IP Kurtosis', 'IP Skewness', \n",
    "              'DM-SNR Mean', 'DM-SNR Sd', 'DM-SNR Kurtosis', 'DM-SNR Skewness', 'target_class']"
   ]
  },
  {
   "cell_type": "code",
   "execution_count": 30,
   "metadata": {
    "execution": {
     "iopub.execute_input": "2020-10-06T16:38:34.906190Z",
     "iopub.status.busy": "2020-10-06T16:38:34.905559Z",
     "iopub.status.idle": "2020-10-06T16:38:34.934118Z",
     "shell.execute_reply": "2020-10-06T16:38:34.934568Z"
    },
    "papermill": {
     "duration": 0.04373,
     "end_time": "2020-10-06T16:38:34.934688",
     "exception": false,
     "start_time": "2020-10-06T16:38:34.890958",
     "status": "completed"
    },
    "tags": []
   },
   "outputs": [
    {
     "data": {
      "text/plain": [
       "0    0.908426\n",
       "1    0.091574\n",
       "Name: target_class, dtype: float64"
      ]
     },
     "execution_count": 30,
     "metadata": {},
     "output_type": "execute_result"
    }
   ],
   "source": [
    "# data['target_class'].value_counts()\n",
    "# view the percentage distribution of target_class column\n",
    "data['target_class'].value_counts()/np.float(len(data))"
   ]
  },
  {
   "cell_type": "code",
   "execution_count": 31,
   "metadata": {},
   "outputs": [
    {
     "data": {
      "text/html": [
       "<div>\n",
       "<style scoped>\n",
       "    .dataframe tbody tr th:only-of-type {\n",
       "        vertical-align: middle;\n",
       "    }\n",
       "\n",
       "    .dataframe tbody tr th {\n",
       "        vertical-align: top;\n",
       "    }\n",
       "\n",
       "    .dataframe thead th {\n",
       "        text-align: right;\n",
       "    }\n",
       "</style>\n",
       "<table border=\"1\" class=\"dataframe\">\n",
       "  <thead>\n",
       "    <tr style=\"text-align: right;\">\n",
       "      <th></th>\n",
       "      <th>IP Mean</th>\n",
       "      <th>IP Sd</th>\n",
       "      <th>IP Kurtosis</th>\n",
       "      <th>IP Skewness</th>\n",
       "      <th>DM-SNR Mean</th>\n",
       "      <th>DM-SNR Sd</th>\n",
       "      <th>DM-SNR Kurtosis</th>\n",
       "      <th>DM-SNR Skewness</th>\n",
       "      <th>target_class</th>\n",
       "    </tr>\n",
       "  </thead>\n",
       "  <tbody>\n",
       "    <tr>\n",
       "      <th>19</th>\n",
       "      <td>99.367188</td>\n",
       "      <td>41.572202</td>\n",
       "      <td>1.547197</td>\n",
       "      <td>4.154106</td>\n",
       "      <td>27.555184</td>\n",
       "      <td>61.719016</td>\n",
       "      <td>2.208808</td>\n",
       "      <td>3.662680</td>\n",
       "      <td>1</td>\n",
       "    </tr>\n",
       "    <tr>\n",
       "      <th>42</th>\n",
       "      <td>120.554688</td>\n",
       "      <td>45.549905</td>\n",
       "      <td>0.282924</td>\n",
       "      <td>0.419909</td>\n",
       "      <td>1.358696</td>\n",
       "      <td>13.079034</td>\n",
       "      <td>13.312141</td>\n",
       "      <td>212.597029</td>\n",
       "      <td>1</td>\n",
       "    </tr>\n",
       "    <tr>\n",
       "      <th>61</th>\n",
       "      <td>27.765625</td>\n",
       "      <td>28.666042</td>\n",
       "      <td>5.770087</td>\n",
       "      <td>37.419009</td>\n",
       "      <td>73.112876</td>\n",
       "      <td>62.070220</td>\n",
       "      <td>1.268206</td>\n",
       "      <td>1.082920</td>\n",
       "      <td>1</td>\n",
       "    </tr>\n",
       "    <tr>\n",
       "      <th>92</th>\n",
       "      <td>23.625000</td>\n",
       "      <td>29.948654</td>\n",
       "      <td>5.688038</td>\n",
       "      <td>35.987172</td>\n",
       "      <td>146.568562</td>\n",
       "      <td>82.394624</td>\n",
       "      <td>-0.274902</td>\n",
       "      <td>-1.121848</td>\n",
       "      <td>1</td>\n",
       "    </tr>\n",
       "    <tr>\n",
       "      <th>93</th>\n",
       "      <td>94.585938</td>\n",
       "      <td>35.779823</td>\n",
       "      <td>1.187309</td>\n",
       "      <td>3.687469</td>\n",
       "      <td>6.071070</td>\n",
       "      <td>29.760400</td>\n",
       "      <td>5.318767</td>\n",
       "      <td>28.698048</td>\n",
       "      <td>1</td>\n",
       "    </tr>\n",
       "  </tbody>\n",
       "</table>\n",
       "</div>"
      ],
      "text/plain": [
       "       IP Mean      IP Sd  IP Kurtosis  IP Skewness  DM-SNR Mean  DM-SNR Sd  \\\n",
       "19   99.367188  41.572202     1.547197     4.154106    27.555184  61.719016   \n",
       "42  120.554688  45.549905     0.282924     0.419909     1.358696  13.079034   \n",
       "61   27.765625  28.666042     5.770087    37.419009    73.112876  62.070220   \n",
       "92   23.625000  29.948654     5.688038    35.987172   146.568562  82.394624   \n",
       "93   94.585938  35.779823     1.187309     3.687469     6.071070  29.760400   \n",
       "\n",
       "    DM-SNR Kurtosis  DM-SNR Skewness  target_class  \n",
       "19         2.208808         3.662680             1  \n",
       "42        13.312141       212.597029             1  \n",
       "61         1.268206         1.082920             1  \n",
       "92        -0.274902        -1.121848             1  \n",
       "93         5.318767        28.698048             1  "
      ]
     },
     "execution_count": 31,
     "metadata": {},
     "output_type": "execute_result"
    }
   ],
   "source": [
    "df_ab = data[data['target_class']==1]\n",
    "df_nnorm = data[data['target_class']!=1]\n",
    "df_ab.head()"
   ]
  },
  {
   "cell_type": "code",
   "execution_count": 32,
   "metadata": {},
   "outputs": [],
   "source": [
    "from sklearn.preprocessing import MinMaxScaler\n",
    "\n",
    "scaler    = MinMaxScaler()\n",
    "df_values = df_ab.copy()\n",
    "column_list = list(df_values.columns) \n",
    "df_values = df_values.drop(['target_class'], axis=1)\n",
    "df_norm   = scaler.fit_transform(df_values)"
   ]
  },
  {
   "cell_type": "code",
   "execution_count": 33,
   "metadata": {},
   "outputs": [],
   "source": [
    "# X = df_norm.drop(['target_class'],axis=1)\n",
    "# y= df_norm['target_class']"
   ]
  },
  {
   "cell_type": "code",
   "execution_count": 34,
   "metadata": {},
   "outputs": [
    {
     "data": {
      "text/plain": [
       "['IP Mean',\n",
       " 'IP Sd',\n",
       " 'IP Kurtosis',\n",
       " 'IP Skewness',\n",
       " 'DM-SNR Mean',\n",
       " 'DM-SNR Sd',\n",
       " 'DM-SNR Kurtosis',\n",
       " 'DM-SNR Skewness',\n",
       " 'target_class']"
      ]
     },
     "execution_count": 34,
     "metadata": {},
     "output_type": "execute_result"
    }
   ],
   "source": [
    "column_list"
   ]
  },
  {
   "cell_type": "code",
   "execution_count": 35,
   "metadata": {},
   "outputs": [
    {
     "data": {
      "text/plain": [
       "8"
      ]
     },
     "execution_count": 35,
     "metadata": {},
     "output_type": "execute_result"
    }
   ],
   "source": [
    "df_norm.shape[1]"
   ]
  },
  {
   "cell_type": "markdown",
   "metadata": {
    "papermill": {
     "duration": 0.009305,
     "end_time": "2020-10-06T16:38:34.707414",
     "exception": false,
     "start_time": "2020-10-06T16:38:34.698109",
     "status": "completed"
    },
    "tags": []
   },
   "source": [
    "# Autoencoder"
   ]
  },
  {
   "cell_type": "code",
   "execution_count": 36,
   "metadata": {},
   "outputs": [],
   "source": [
    "import numpy as np\n",
    "import pandas as pd\n",
    "import matplotlib.pyplot as plt\n",
    "%matplotlib inline\n",
    "\n",
    "from sklearn.preprocessing import StandardScaler\n",
    "\n",
    "from keras.models import Sequential, Model\n",
    "from keras.layers import Dense, BatchNormalization, Dropout, Flatten, Input\n",
    "from keras import backend as K\n",
    "import keras\n",
    "from matplotlib.colors import LogNorm"
   ]
  },
  {
   "cell_type": "code",
   "execution_count": 37,
   "metadata": {},
   "outputs": [
    {
     "name": "stdout",
     "output_type": "stream",
     "text": [
      "Model: \"autoencoder\"\n",
      "_________________________________________________________________\n",
      "Layer (type)                 Output Shape              Param #   \n",
      "=================================================================\n",
      "main_input (InputLayer)      [(None, 8)]               0         \n",
      "_________________________________________________________________\n",
      "encoder (Functional)         (None, 8)                 2033      \n",
      "_________________________________________________________________\n",
      "decoder (Functional)         (None, 8)                 1103      \n",
      "=================================================================\n",
      "Total params: 3,136\n",
      "Trainable params: 3,016\n",
      "Non-trainable params: 120\n",
      "_________________________________________________________________\n"
     ]
    }
   ],
   "source": [
    "n_features = df_norm.shape[1]\n",
    "\n",
    "dim = 15\n",
    "\n",
    "def build_model(dropout_rate=0.15, activation='tanh'):\n",
    "    main_input = Input(shape=(n_features, ), name='main_input')\n",
    "    \n",
    "    x = Dense(dim*2, activation=activation)(main_input)\n",
    "    x = BatchNormalization()(x)\n",
    "    x = Dropout(dropout_rate)(x)\n",
    "    \n",
    "    x = Dense(dim*2, activation=activation)(x)\n",
    "    x = BatchNormalization()(x)\n",
    "    x = Dropout(dropout_rate/2)(x)\n",
    "    \n",
    "    x = Dense(dim, activation=activation)(x)\n",
    "    x = Dropout(dropout_rate/4)(x)\n",
    "\n",
    "    encoded = Dense(n_features, activation='tanh')(x)\n",
    "\n",
    "    input_encoded = Input(shape=(n_features, ))\n",
    "    \n",
    "    x = Dense(dim, activation=activation)(input_encoded)\n",
    "    x = Dense(dim, activation=activation)(x)\n",
    "    x = Dense(dim*2, activation=activation)(x)\n",
    "    \n",
    "    decoded = x = Dense(n_features, activation='linear')(x)\n",
    "\n",
    "    encoder = Model(main_input, encoded, name=\"encoder\")\n",
    "    decoder = Model(input_encoded, decoded, name=\"decoder\")\n",
    "    autoencoder = Model(main_input, decoder(encoder(main_input)), name=\"autoencoder\")\n",
    "    return encoder, decoder, autoencoder\n",
    "\n",
    "K.clear_session()\n",
    "c_encoder, c_decoder, c_autoencoder = build_model()\n",
    "c_autoencoder.compile(optimizer='nadam', loss='mse')\n",
    "\n",
    "c_autoencoder.summary()"
   ]
  },
  {
   "cell_type": "code",
   "execution_count": 38,
   "metadata": {
    "execution": {
     "iopub.execute_input": "2020-10-06T16:38:35.084589Z",
     "iopub.status.busy": "2020-10-06T16:38:35.083975Z",
     "iopub.status.idle": "2020-10-06T16:38:35.212408Z",
     "shell.execute_reply": "2020-10-06T16:38:35.211759Z"
    },
    "papermill": {
     "duration": 0.148806,
     "end_time": "2020-10-06T16:38:35.212508",
     "exception": false,
     "start_time": "2020-10-06T16:38:35.063702",
     "status": "completed"
    },
    "tags": []
   },
   "outputs": [
    {
     "name": "stdout",
     "output_type": "stream",
     "text": [
      "Epoch 1/50\n",
      "1/1 [==============================] - 2s 2s/step - loss: 0.2284\n",
      "Epoch 2/50\n",
      "1/1 [==============================] - 0s 5ms/step - loss: 0.2105\n",
      "Epoch 3/50\n",
      "1/1 [==============================] - 0s 6ms/step - loss: 0.2003\n",
      "Epoch 4/50\n",
      "1/1 [==============================] - 0s 6ms/step - loss: 0.1896\n",
      "Epoch 5/50\n",
      "1/1 [==============================] - 0s 6ms/step - loss: 0.1800\n",
      "Epoch 6/50\n",
      "1/1 [==============================] - 0s 6ms/step - loss: 0.1711\n",
      "Epoch 7/50\n",
      "1/1 [==============================] - 0s 6ms/step - loss: 0.1641\n",
      "Epoch 8/50\n",
      "1/1 [==============================] - 0s 6ms/step - loss: 0.1541\n",
      "Epoch 9/50\n",
      "1/1 [==============================] - 0s 6ms/step - loss: 0.1460\n",
      "Epoch 10/50\n",
      "1/1 [==============================] - 0s 7ms/step - loss: 0.1375\n",
      "Epoch 11/50\n",
      "1/1 [==============================] - 0s 6ms/step - loss: 0.1304\n",
      "Epoch 12/50\n",
      "1/1 [==============================] - 0s 6ms/step - loss: 0.1218\n",
      "Epoch 13/50\n",
      "1/1 [==============================] - 0s 5ms/step - loss: 0.1147\n",
      "Epoch 14/50\n",
      "1/1 [==============================] - 0s 5ms/step - loss: 0.1077\n",
      "Epoch 15/50\n",
      "1/1 [==============================] - 0s 7ms/step - loss: 0.1025\n",
      "Epoch 16/50\n",
      "1/1 [==============================] - 0s 5ms/step - loss: 0.0967\n",
      "Epoch 17/50\n",
      "1/1 [==============================] - 0s 6ms/step - loss: 0.0909\n",
      "Epoch 18/50\n",
      "1/1 [==============================] - 0s 6ms/step - loss: 0.0855\n",
      "Epoch 19/50\n",
      "1/1 [==============================] - 0s 6ms/step - loss: 0.0784\n",
      "Epoch 20/50\n",
      "1/1 [==============================] - 0s 6ms/step - loss: 0.0738\n",
      "Epoch 21/50\n",
      "1/1 [==============================] - 0s 7ms/step - loss: 0.0706\n",
      "Epoch 22/50\n",
      "1/1 [==============================] - 0s 6ms/step - loss: 0.0658\n",
      "Epoch 23/50\n",
      "1/1 [==============================] - 0s 6ms/step - loss: 0.0618\n",
      "Epoch 24/50\n",
      "1/1 [==============================] - 0s 7ms/step - loss: 0.0587\n",
      "Epoch 25/50\n",
      "1/1 [==============================] - 0s 5ms/step - loss: 0.0559\n",
      "Epoch 26/50\n",
      "1/1 [==============================] - 0s 6ms/step - loss: 0.0516\n",
      "Epoch 27/50\n",
      "1/1 [==============================] - 0s 6ms/step - loss: 0.0494\n",
      "Epoch 28/50\n",
      "1/1 [==============================] - 0s 6ms/step - loss: 0.0454\n",
      "Epoch 29/50\n",
      "1/1 [==============================] - 0s 6ms/step - loss: 0.0433\n",
      "Epoch 30/50\n",
      "1/1 [==============================] - 0s 6ms/step - loss: 0.0412\n",
      "Epoch 31/50\n",
      "1/1 [==============================] - 0s 6ms/step - loss: 0.0393\n",
      "Epoch 32/50\n",
      "1/1 [==============================] - 0s 6ms/step - loss: 0.0374\n",
      "Epoch 33/50\n",
      "1/1 [==============================] - 0s 6ms/step - loss: 0.0358\n",
      "Epoch 34/50\n",
      "1/1 [==============================] - 0s 6ms/step - loss: 0.0339\n",
      "Epoch 35/50\n",
      "1/1 [==============================] - 0s 6ms/step - loss: 0.0319\n",
      "Epoch 36/50\n",
      "1/1 [==============================] - 0s 6ms/step - loss: 0.0297\n",
      "Epoch 37/50\n",
      "1/1 [==============================] - 0s 6ms/step - loss: 0.0287\n",
      "Epoch 38/50\n",
      "1/1 [==============================] - 0s 5ms/step - loss: 0.0272\n",
      "Epoch 39/50\n",
      "1/1 [==============================] - 0s 7ms/step - loss: 0.0260\n",
      "Epoch 40/50\n",
      "1/1 [==============================] - 0s 6ms/step - loss: 0.0257\n",
      "Epoch 41/50\n",
      "1/1 [==============================] - 0s 6ms/step - loss: 0.0241\n",
      "Epoch 42/50\n",
      "1/1 [==============================] - 0s 5ms/step - loss: 0.0233\n",
      "Epoch 43/50\n",
      "1/1 [==============================] - 0s 5ms/step - loss: 0.0219\n",
      "Epoch 44/50\n",
      "1/1 [==============================] - 0s 7ms/step - loss: 0.0215\n",
      "Epoch 45/50\n",
      "1/1 [==============================] - 0s 6ms/step - loss: 0.0206\n",
      "Epoch 46/50\n",
      "1/1 [==============================] - 0s 6ms/step - loss: 0.0200\n",
      "Epoch 47/50\n",
      "1/1 [==============================] - 0s 5ms/step - loss: 0.0192\n",
      "Epoch 48/50\n",
      "1/1 [==============================] - 0s 4ms/step - loss: 0.0186\n",
      "Epoch 49/50\n",
      "1/1 [==============================] - 0s 5ms/step - loss: 0.0183\n",
      "Epoch 50/50\n",
      "1/1 [==============================] - 0s 18ms/step - loss: 0.0177\n",
      "Wall time: 2.16 s\n"
     ]
    },
    {
     "data": {
      "text/plain": [
       "[<matplotlib.lines.Line2D at 0x12eb688fc70>]"
      ]
     },
     "execution_count": 38,
     "metadata": {},
     "output_type": "execute_result"
    },
    {
     "data": {
      "image/png": "[encoded data removed]",
      "text/plain": [
       "<Figure size 720x360 with 1 Axes>"
      ]
     },
     "metadata": {
      "needs_background": "light"
     },
     "output_type": "display_data"
    }
   ],
   "source": [
    "%%time\n",
    "epochs = 50\n",
    "batch_size = 9548\n",
    "history = c_autoencoder.fit(df_norm, df_norm,\n",
    "                    epochs=epochs,\n",
    "                    batch_size=batch_size,\n",
    "                    shuffle=True,\n",
    "                    verbose=1)\n",
    "\n",
    "loss_history = history.history['loss']\n",
    "plt.figure(figsize=(10, 5))\n",
    "plt.plot(loss_history);"
   ]
  },
  {
   "cell_type": "code",
   "execution_count": 39,
   "metadata": {
    "execution": {
     "iopub.execute_input": "2020-10-06T16:38:35.251294Z",
     "iopub.status.busy": "2020-10-06T16:38:35.250661Z",
     "iopub.status.idle": "2020-10-06T16:38:35.254976Z",
     "shell.execute_reply": "2020-10-06T16:38:35.254469Z"
    },
    "papermill": {
     "duration": 0.025387,
     "end_time": "2020-10-06T16:38:35.255109",
     "exception": false,
     "start_time": "2020-10-06T16:38:35.229722",
     "status": "completed"
    },
    "tags": []
   },
   "outputs": [
    {
     "data": {
      "text/plain": [
       "(1639, 8)"
      ]
     },
     "execution_count": 39,
     "metadata": {},
     "output_type": "execute_result"
    }
   ],
   "source": [
    "ae = c_encoder.predict(df_norm)\n",
    "ae.shape"
   ]
  },
  {
   "cell_type": "code",
   "execution_count": 40,
   "metadata": {},
   "outputs": [
    {
     "data": {
      "text/plain": [
       "array([[ 0.10203686,  0.18994889, -0.24651714, ..., -0.27151108,\n",
       "        -0.09968395, -0.01604798],\n",
       "       [-0.20908518, -0.63112783, -0.0388834 , ..., -0.14156352,\n",
       "        -0.3797776 , -0.43705288],\n",
       "       [ 0.3987259 ,  0.8972068 , -0.07230467, ..., -0.50539047,\n",
       "         0.4286167 ,  0.56090224],\n",
       "       ...,\n",
       "       [ 0.149443  ,  0.3945674 , -0.22384107, ..., -0.3435636 ,\n",
       "        -0.05176032,  0.06504654],\n",
       "       [ 0.47558627,  0.94502336,  0.08771742, ..., -0.56261206,\n",
       "         0.5898076 ,  0.5446127 ],\n",
       "       [ 0.2536585 ,  0.6065965 ,  0.09979971, ..., -0.36783707,\n",
       "         0.25208637, -0.21644224]], dtype=float32)"
      ]
     },
     "execution_count": 40,
     "metadata": {},
     "output_type": "execute_result"
    }
   ],
   "source": [
    "ae"
   ]
  },
  {
   "cell_type": "code",
   "execution_count": 41,
   "metadata": {
    "execution": {
     "iopub.execute_input": "2020-10-06T16:38:35.294585Z",
     "iopub.status.busy": "2020-10-06T16:38:35.293816Z",
     "iopub.status.idle": "2020-10-06T16:38:35.297682Z",
     "shell.execute_reply": "2020-10-06T16:38:35.297198Z"
    },
    "papermill": {
     "duration": 0.025031,
     "end_time": "2020-10-06T16:38:35.297765",
     "exception": false,
     "start_time": "2020-10-06T16:38:35.272734",
     "status": "completed"
    },
    "tags": []
   },
   "outputs": [],
   "source": [
    "df_ae = pd.DataFrame(ae)\n",
    "df_ae['target_class'] = 1"
   ]
  },
  {
   "cell_type": "code",
   "execution_count": 42,
   "metadata": {},
   "outputs": [
    {
     "data": {
      "text/html": [
       "<div>\n",
       "<style scoped>\n",
       "    .dataframe tbody tr th:only-of-type {\n",
       "        vertical-align: middle;\n",
       "    }\n",
       "\n",
       "    .dataframe tbody tr th {\n",
       "        vertical-align: top;\n",
       "    }\n",
       "\n",
       "    .dataframe thead th {\n",
       "        text-align: right;\n",
       "    }\n",
       "</style>\n",
       "<table border=\"1\" class=\"dataframe\">\n",
       "  <thead>\n",
       "    <tr style=\"text-align: right;\">\n",
       "      <th></th>\n",
       "      <th>IP Mean</th>\n",
       "      <th>IP Sd</th>\n",
       "      <th>IP Kurtosis</th>\n",
       "      <th>IP Skewness</th>\n",
       "      <th>DM-SNR Mean</th>\n",
       "      <th>DM-SNR Sd</th>\n",
       "      <th>DM-SNR Kurtosis</th>\n",
       "      <th>DM-SNR Skewness</th>\n",
       "      <th>target_class</th>\n",
       "    </tr>\n",
       "  </thead>\n",
       "  <tbody>\n",
       "    <tr>\n",
       "      <th>0</th>\n",
       "      <td>0.102037</td>\n",
       "      <td>0.189949</td>\n",
       "      <td>-0.246517</td>\n",
       "      <td>0.310164</td>\n",
       "      <td>-0.528513</td>\n",
       "      <td>-0.271511</td>\n",
       "      <td>-0.099684</td>\n",
       "      <td>-0.016048</td>\n",
       "      <td>1</td>\n",
       "    </tr>\n",
       "    <tr>\n",
       "      <th>1</th>\n",
       "      <td>-0.209085</td>\n",
       "      <td>-0.631128</td>\n",
       "      <td>-0.038883</td>\n",
       "      <td>0.284179</td>\n",
       "      <td>-0.485053</td>\n",
       "      <td>-0.141564</td>\n",
       "      <td>-0.379778</td>\n",
       "      <td>-0.437053</td>\n",
       "      <td>1</td>\n",
       "    </tr>\n",
       "    <tr>\n",
       "      <th>2</th>\n",
       "      <td>0.398726</td>\n",
       "      <td>0.897207</td>\n",
       "      <td>-0.072305</td>\n",
       "      <td>0.234846</td>\n",
       "      <td>-0.283689</td>\n",
       "      <td>-0.505390</td>\n",
       "      <td>0.428617</td>\n",
       "      <td>0.560902</td>\n",
       "      <td>1</td>\n",
       "    </tr>\n",
       "    <tr>\n",
       "      <th>3</th>\n",
       "      <td>0.462421</td>\n",
       "      <td>0.934602</td>\n",
       "      <td>0.113304</td>\n",
       "      <td>0.385450</td>\n",
       "      <td>-0.183525</td>\n",
       "      <td>-0.563117</td>\n",
       "      <td>0.540857</td>\n",
       "      <td>0.462234</td>\n",
       "      <td>1</td>\n",
       "    </tr>\n",
       "    <tr>\n",
       "      <th>4</th>\n",
       "      <td>0.000926</td>\n",
       "      <td>-0.245770</td>\n",
       "      <td>-0.122442</td>\n",
       "      <td>0.255142</td>\n",
       "      <td>-0.519066</td>\n",
       "      <td>-0.184713</td>\n",
       "      <td>-0.233905</td>\n",
       "      <td>-0.089061</td>\n",
       "      <td>1</td>\n",
       "    </tr>\n",
       "    <tr>\n",
       "      <th>5</th>\n",
       "      <td>0.065861</td>\n",
       "      <td>-0.033293</td>\n",
       "      <td>-0.208664</td>\n",
       "      <td>0.350319</td>\n",
       "      <td>-0.563870</td>\n",
       "      <td>-0.188977</td>\n",
       "      <td>-0.125620</td>\n",
       "      <td>-0.150631</td>\n",
       "      <td>1</td>\n",
       "    </tr>\n",
       "    <tr>\n",
       "      <th>6</th>\n",
       "      <td>0.279239</td>\n",
       "      <td>0.766321</td>\n",
       "      <td>-0.237769</td>\n",
       "      <td>0.148359</td>\n",
       "      <td>-0.381254</td>\n",
       "      <td>-0.460565</td>\n",
       "      <td>0.174575</td>\n",
       "      <td>0.447076</td>\n",
       "      <td>1</td>\n",
       "    </tr>\n",
       "    <tr>\n",
       "      <th>7</th>\n",
       "      <td>0.385343</td>\n",
       "      <td>0.907654</td>\n",
       "      <td>-0.197468</td>\n",
       "      <td>0.131889</td>\n",
       "      <td>-0.328100</td>\n",
       "      <td>-0.506239</td>\n",
       "      <td>0.394473</td>\n",
       "      <td>0.642260</td>\n",
       "      <td>1</td>\n",
       "    </tr>\n",
       "    <tr>\n",
       "      <th>8</th>\n",
       "      <td>0.423479</td>\n",
       "      <td>0.825983</td>\n",
       "      <td>0.316836</td>\n",
       "      <td>0.571771</td>\n",
       "      <td>-0.080430</td>\n",
       "      <td>-0.447552</td>\n",
       "      <td>0.370548</td>\n",
       "      <td>0.061659</td>\n",
       "      <td>1</td>\n",
       "    </tr>\n",
       "    <tr>\n",
       "      <th>9</th>\n",
       "      <td>0.481886</td>\n",
       "      <td>0.920173</td>\n",
       "      <td>0.238219</td>\n",
       "      <td>0.498074</td>\n",
       "      <td>-0.103355</td>\n",
       "      <td>-0.555176</td>\n",
       "      <td>0.515402</td>\n",
       "      <td>0.293460</td>\n",
       "      <td>1</td>\n",
       "    </tr>\n",
       "  </tbody>\n",
       "</table>\n",
       "</div>"
      ],
      "text/plain": [
       "    IP Mean     IP Sd  IP Kurtosis  IP Skewness  DM-SNR Mean  DM-SNR Sd  \\\n",
       "0  0.102037  0.189949    -0.246517     0.310164    -0.528513  -0.271511   \n",
       "1 -0.209085 -0.631128    -0.038883     0.284179    -0.485053  -0.141564   \n",
       "2  0.398726  0.897207    -0.072305     0.234846    -0.283689  -0.505390   \n",
       "3  0.462421  0.934602     0.113304     0.385450    -0.183525  -0.563117   \n",
       "4  0.000926 -0.245770    -0.122442     0.255142    -0.519066  -0.184713   \n",
       "5  0.065861 -0.033293    -0.208664     0.350319    -0.563870  -0.188977   \n",
       "6  0.279239  0.766321    -0.237769     0.148359    -0.381254  -0.460565   \n",
       "7  0.385343  0.907654    -0.197468     0.131889    -0.328100  -0.506239   \n",
       "8  0.423479  0.825983     0.316836     0.571771    -0.080430  -0.447552   \n",
       "9  0.481886  0.920173     0.238219     0.498074    -0.103355  -0.555176   \n",
       "\n",
       "   DM-SNR Kurtosis  DM-SNR Skewness  target_class  \n",
       "0        -0.099684        -0.016048             1  \n",
       "1        -0.379778        -0.437053             1  \n",
       "2         0.428617         0.560902             1  \n",
       "3         0.540857         0.462234             1  \n",
       "4        -0.233905        -0.089061             1  \n",
       "5        -0.125620        -0.150631             1  \n",
       "6         0.174575         0.447076             1  \n",
       "7         0.394473         0.642260             1  \n",
       "8         0.370548         0.061659             1  \n",
       "9         0.515402         0.293460             1  "
      ]
     },
     "execution_count": 42,
     "metadata": {},
     "output_type": "execute_result"
    }
   ],
   "source": [
    "df_ae.columns = column_list\n",
    "df_ae.head(10)"
   ]
  },
  {
   "cell_type": "code",
   "execution_count": 43,
   "metadata": {},
   "outputs": [
    {
     "data": {
      "text/html": [
       "<div>\n",
       "<style scoped>\n",
       "    .dataframe tbody tr th:only-of-type {\n",
       "        vertical-align: middle;\n",
       "    }\n",
       "\n",
       "    .dataframe tbody tr th {\n",
       "        vertical-align: top;\n",
       "    }\n",
       "\n",
       "    .dataframe thead th {\n",
       "        text-align: right;\n",
       "    }\n",
       "</style>\n",
       "<table border=\"1\" class=\"dataframe\">\n",
       "  <thead>\n",
       "    <tr style=\"text-align: right;\">\n",
       "      <th></th>\n",
       "      <th>IP Mean</th>\n",
       "      <th>IP Sd</th>\n",
       "      <th>IP Kurtosis</th>\n",
       "      <th>IP Skewness</th>\n",
       "      <th>DM-SNR Mean</th>\n",
       "      <th>DM-SNR Sd</th>\n",
       "      <th>DM-SNR Kurtosis</th>\n",
       "      <th>DM-SNR Skewness</th>\n",
       "      <th>target_class</th>\n",
       "    </tr>\n",
       "  </thead>\n",
       "  <tbody>\n",
       "    <tr>\n",
       "      <th>0</th>\n",
       "      <td>0.703234</td>\n",
       "      <td>0.385060</td>\n",
       "      <td>0.246396</td>\n",
       "      <td>0.040963</td>\n",
       "      <td>0.013382</td>\n",
       "      <td>0.113681</td>\n",
       "      <td>0.294986</td>\n",
       "      <td>0.063890</td>\n",
       "      <td>0</td>\n",
       "    </tr>\n",
       "    <tr>\n",
       "      <th>1</th>\n",
       "      <td>0.486282</td>\n",
       "      <td>0.430702</td>\n",
       "      <td>0.351456</td>\n",
       "      <td>0.047884</td>\n",
       "      <td>0.006560</td>\n",
       "      <td>0.072524</td>\n",
       "      <td>0.364015</td>\n",
       "      <td>0.108443</td>\n",
       "      <td>0</td>\n",
       "    </tr>\n",
       "    <tr>\n",
       "      <th>2</th>\n",
       "      <td>0.489177</td>\n",
       "      <td>0.151868</td>\n",
       "      <td>0.330142</td>\n",
       "      <td>0.106624</td>\n",
       "      <td>0.013030</td>\n",
       "      <td>0.139188</td>\n",
       "      <td>0.288624</td>\n",
       "      <td>0.054610</td>\n",
       "      <td>0</td>\n",
       "    </tr>\n",
       "    <tr>\n",
       "      <th>3</th>\n",
       "      <td>0.681498</td>\n",
       "      <td>0.406388</td>\n",
       "      <td>0.271338</td>\n",
       "      <td>0.043341</td>\n",
       "      <td>0.015368</td>\n",
       "      <td>0.131583</td>\n",
       "      <td>0.266348</td>\n",
       "      <td>0.046581</td>\n",
       "      <td>0</td>\n",
       "    </tr>\n",
       "    <tr>\n",
       "      <th>4</th>\n",
       "      <td>0.407714</td>\n",
       "      <td>0.170854</td>\n",
       "      <td>0.371803</td>\n",
       "      <td>0.109336</td>\n",
       "      <td>0.004327</td>\n",
       "      <td>0.039684</td>\n",
       "      <td>0.462029</td>\n",
       "      <td>0.213369</td>\n",
       "      <td>0</td>\n",
       "    </tr>\n",
       "  </tbody>\n",
       "</table>\n",
       "</div>"
      ],
      "text/plain": [
       "    IP Mean     IP Sd  IP Kurtosis  IP Skewness  DM-SNR Mean  DM-SNR Sd  \\\n",
       "0  0.703234  0.385060     0.246396     0.040963     0.013382   0.113681   \n",
       "1  0.486282  0.430702     0.351456     0.047884     0.006560   0.072524   \n",
       "2  0.489177  0.151868     0.330142     0.106624     0.013030   0.139188   \n",
       "3  0.681498  0.406388     0.271338     0.043341     0.015368   0.131583   \n",
       "4  0.407714  0.170854     0.371803     0.109336     0.004327   0.039684   \n",
       "\n",
       "   DM-SNR Kurtosis  DM-SNR Skewness  target_class  \n",
       "0         0.294986         0.063890             0  \n",
       "1         0.364015         0.108443             0  \n",
       "2         0.288624         0.054610             0  \n",
       "3         0.266348         0.046581             0  \n",
       "4         0.462029         0.213369             0  "
      ]
     },
     "execution_count": 43,
     "metadata": {},
     "output_type": "execute_result"
    }
   ],
   "source": [
    "df_nvalues = df_nnorm.drop(['target_class'], axis=1)\n",
    "scaled_nnorm   = scaler.fit_transform(df_nvalues)\n",
    "df_scaler_nnorm = pd.DataFrame(scaled_nnorm, index=df_nvalues.index, columns=df_nvalues.columns)\n",
    "df_scaler_nnorm['target_class'] = data.target_class\n",
    "df_scaler_nnorm.head()"
   ]
  },
  {
   "cell_type": "code",
   "execution_count": 44,
   "metadata": {},
   "outputs": [
    {
     "data": {
      "text/plain": [
       "(17898, 9)"
      ]
     },
     "execution_count": 44,
     "metadata": {},
     "output_type": "execute_result"
    }
   ],
   "source": [
    "df_train = pd.concat([df_ae, df_scaler_nnorm], ignore_index=True)\n",
    "df_train.shape"
   ]
  },
  {
   "cell_type": "code",
   "execution_count": 45,
   "metadata": {},
   "outputs": [],
   "source": [
    "X = df_train.drop(['target_class'], axis=1)\n",
    "y = df_train['target_class']"
   ]
  },
  {
   "cell_type": "code",
   "execution_count": 46,
   "metadata": {},
   "outputs": [],
   "source": [
    "from sklearn.model_selection import train_test_split\n",
    "X_train, X_test, y_train, y_test = train_test_split(X, y, test_size = 0.3, random_state = 42)"
   ]
  },
  {
   "cell_type": "code",
   "execution_count": 47,
   "metadata": {},
   "outputs": [],
   "source": [
    "# Model"
   ]
  },
  {
   "cell_type": "code",
   "execution_count": 48,
   "metadata": {
    "execution": {
     "iopub.execute_input": "2020-10-06T16:38:35.329159Z",
     "iopub.status.busy": "2020-10-06T16:38:35.328317Z",
     "iopub.status.idle": "2020-10-06T16:38:35.335275Z",
     "shell.execute_reply": "2020-10-06T16:38:35.334770Z"
    },
    "papermill": {
     "duration": 0.025302,
     "end_time": "2020-10-06T16:38:35.335374",
     "exception": false,
     "start_time": "2020-10-06T16:38:35.310072",
     "status": "completed"
    },
    "tags": []
   },
   "outputs": [],
   "source": [
    "from sklearn.metrics import classification_report,confusion_matrix,accuracy_score,roc_curve,auc\n",
    "from sklearn.linear_model import LogisticRegression\n",
    "from sklearn.metrics import matthews_corrcoef, confusion_matrix,precision_recall_curve,auc,f1_score,roc_auc_score,roc_curve,recall_score,classification_report \n",
    "from sklearn.tree import DecisionTreeClassifier\n",
    "from sklearn.ensemble import RandomForestClassifier\n",
    "from sklearn.svm import SVC\n"
   ]
  },
  {
   "cell_type": "code",
   "execution_count": 49,
   "metadata": {
    "execution": {
     "iopub.execute_input": "2020-10-06T16:38:35.377293Z",
     "iopub.status.busy": "2020-10-06T16:38:35.376751Z",
     "iopub.status.idle": "2020-10-06T16:38:35.380939Z",
     "shell.execute_reply": "2020-10-06T16:38:35.380437Z"
    },
    "papermill": {
     "duration": 0.027453,
     "end_time": "2020-10-06T16:38:35.381050",
     "exception": false,
     "start_time": "2020-10-06T16:38:35.353597",
     "status": "completed"
    },
    "tags": []
   },
   "outputs": [],
   "source": [
    "\n",
    "def model(algorithm,dtrain_x,dtrain_y,dtest_x,dtest_y):\n",
    "    \n",
    "    print (\"MODEL - OUTPUT\")\n",
    "    print (\"*****************************************************************************************\")\n",
    "    algorithm.fit(dtrain_x,dtrain_y)\n",
    "    predictions = algorithm.predict(dtest_x)\n",
    "    \n",
    "    print (algorithm)\n",
    "    print (\"\\naccuracy_score :\",accuracy_score(dtest_y,predictions))\n",
    "    print (\"\\nrecall score:\\n\",(recall_score(dtest_y,predictions)))\n",
    "    print (\"\\nf1 score:\\n\",(f1_score(dtest_y,predictions)))\n",
    "#     print (\"\\nclassification report :\\n\",(classification_report(dtest_y,predictions)))\n",
    "    print (\"\\nmatthews_corrcoef:\\n\", (matthews_corrcoef(dtest_y, predictions)))\n",
    "    #cross validation\n",
    "    \n",
    "    # Graph\n",
    "    plt.figure(figsize=(13,10))\n",
    "    plt.subplot(221)\n",
    "    sns.heatmap(confusion_matrix(dtest_y,predictions),annot=True,fmt = \"d\",linecolor=\"k\",linewidths=3)\n",
    "    plt.title(\"CONFUSION MATRIX\",fontsize=20)\n",
    "    \n",
    "    predicting_probabilites = algorithm.predict_proba(dtest_x)[:,1]\n",
    "    fpr,tpr,thresholds = roc_curve(dtest_y,predicting_probabilites)\n",
    "    plt.subplot(222)\n",
    "    plt.plot(fpr,tpr,label = (\"Area_under the curve :\",auc(fpr,tpr)),color = \"r\")\n",
    "    plt.plot([1,0],[1,0],linestyle = \"dashed\",color =\"k\")\n",
    "    plt.legend(loc = \"best\")\n",
    "    plt.title(\"ROC - CURVE & AREA UNDER CURVE\",fontsize=20)\n"
   ]
  },
  {
   "cell_type": "code",
   "execution_count": 50,
   "metadata": {},
   "outputs": [
    {
     "name": "stdout",
     "output_type": "stream",
     "text": [
      "MODEL - OUTPUT\n",
      "*****************************************************************************************\n",
      "LogisticRegression()\n",
      "\n",
      "accuracy_score : 1.0\n",
      "\n",
      "recall score:\n",
      " 1.0\n",
      "\n",
      "f1 score:\n",
      " 1.0\n",
      "\n",
      "matthews_corrcoef:\n",
      " 1.0\n"
     ]
    },
    {
     "data": {
      "image/png": "[encoded data removed]",
      "text/plain": [
       "<Figure size 936x720 with 3 Axes>"
      ]
     },
     "metadata": {
      "needs_background": "light"
     },
     "output_type": "display_data"
    }
   ],
   "source": [
    "from sklearn.linear_model import LogisticRegression\n",
    "clf = LogisticRegression()\n",
    "model(clf ,X_train,y_train,X_test,y_test)"
   ]
  },
  {
   "cell_type": "code",
   "execution_count": 51,
   "metadata": {
    "execution": {
     "iopub.execute_input": "2020-10-06T16:38:35.426663Z",
     "iopub.status.busy": "2020-10-06T16:38:35.426079Z",
     "iopub.status.idle": "2020-10-06T16:38:35.454605Z",
     "shell.execute_reply": "2020-10-06T16:38:35.454087Z"
    },
    "papermill": {
     "duration": 0.055272,
     "end_time": "2020-10-06T16:38:35.454699",
     "exception": false,
     "start_time": "2020-10-06T16:38:35.399427",
     "status": "completed"
    },
    "scrolled": false,
    "tags": []
   },
   "outputs": [
    {
     "name": "stdout",
     "output_type": "stream",
     "text": [
      "MODEL - OUTPUT\n",
      "*****************************************************************************************\n",
      "DecisionTreeClassifier()\n",
      "\n",
      "accuracy_score : 0.9998137802607077\n",
      "\n",
      "recall score:\n",
      " 0.997979797979798\n",
      "\n",
      "f1 score:\n",
      " 0.9989888776541962\n",
      "\n",
      "matthews_corrcoef:\n",
      " 0.9988869436322848\n"
     ]
    },
    {
     "data": {
      "image/png": "[encoded data removed]",
      "text/plain": [
       "<Figure size 936x720 with 3 Axes>"
      ]
     },
     "metadata": {
      "needs_background": "light"
     },
     "output_type": "display_data"
    }
   ],
   "source": [
    "clf = DecisionTreeClassifier()\n",
    "model(clf ,X_train,y_train,X_test,y_test)"
   ]
  },
  {
   "cell_type": "code",
   "execution_count": 52,
   "metadata": {
    "execution": {
     "iopub.execute_input": "2020-10-06T16:38:35.503623Z",
     "iopub.status.busy": "2020-10-06T16:38:35.501484Z",
     "iopub.status.idle": "2020-10-06T16:38:35.507232Z",
     "shell.execute_reply": "2020-10-06T16:38:35.506727Z"
    },
    "papermill": {
     "duration": 0.033434,
     "end_time": "2020-10-06T16:38:35.507316",
     "exception": false,
     "start_time": "2020-10-06T16:38:35.473882",
     "status": "completed"
    },
    "tags": []
   },
   "outputs": [
    {
     "name": "stdout",
     "output_type": "stream",
     "text": [
      "MODEL - OUTPUT\n",
      "*****************************************************************************************\n",
      "SVC(probability=True)\n",
      "\n",
      "accuracy_score : 1.0\n",
      "\n",
      "recall score:\n",
      " 1.0\n",
      "\n",
      "f1 score:\n",
      " 1.0\n",
      "\n",
      "matthews_corrcoef:\n",
      " 1.0\n"
     ]
    },
    {
     "data": {
      "image/png": "[encoded data removed]",
      "text/plain": [
       "<Figure size 936x720 with 3 Axes>"
      ]
     },
     "metadata": {
      "needs_background": "light"
     },
     "output_type": "display_data"
    }
   ],
   "source": [
    "svc=SVC(probability=True) \n",
    "\n",
    "model(svc ,X_train,y_train,X_test,y_test)"
   ]
  },
  {
   "cell_type": "code",
   "execution_count": 53,
   "metadata": {},
   "outputs": [
    {
     "name": "stdout",
     "output_type": "stream",
     "text": [
      "MODEL - OUTPUT\n",
      "*****************************************************************************************\n",
      "RandomForestClassifier()\n",
      "\n",
      "accuracy_score : 1.0\n",
      "\n",
      "recall score:\n",
      " 1.0\n",
      "\n",
      "f1 score:\n",
      " 1.0\n",
      "\n",
      "matthews_corrcoef:\n",
      " 1.0\n"
     ]
    },
    {
     "data": {
      "image/png": "[encoded data removed]",
      "text/plain": [
       "<Figure size 936x720 with 3 Axes>"
      ]
     },
     "metadata": {
      "needs_background": "light"
     },
     "output_type": "display_data"
    }
   ],
   "source": [
    "from sklearn.ensemble import RandomForestClassifier\n",
    "clf = RandomForestClassifier()\n",
    "model(clf ,X_train,y_train,X_test,y_test)"
   ]
  },
  {
   "cell_type": "markdown",
   "metadata": {
    "papermill": {
     "duration": 0.015784,
     "end_time": "2020-10-06T16:38:40.037746",
     "exception": false,
     "start_time": "2020-10-06T16:38:40.021962",
     "status": "completed"
    },
    "tags": []
   },
   "source": []
  }
 ],
 "metadata": {
  "kernelspec": {
   "display_name": "Python 3",
   "language": "python",
   "name": "python3"
  },
  "language_info": {
   "codemirror_mode": {
    "name": "ipython",
    "version": 3
   },
   "file_extension": ".py",
   "mimetype": "text/x-python",
   "name": "python",
   "nbconvert_exporter": "python",
   "pygments_lexer": "ipython3",
   "version": "3.8.5"
  },
  "papermill": {
   "duration": 10.513798,
   "end_time": "2020-10-06T16:38:40.160237",
   "environment_variables": {},
   "exception": null,
   "input_path": "__notebook__.ipynb",
   "output_path": "__notebook__.ipynb",
   "parameters": {},
   "start_time": "2020-10-06T16:38:29.646439",
   "version": "2.1.0"
  }
 },
 "nbformat": 4,
 "nbformat_minor": 4
}
