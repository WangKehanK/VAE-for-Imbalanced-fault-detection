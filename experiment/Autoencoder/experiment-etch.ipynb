{
 "cells": [
  {
   "cell_type": "code",
   "execution_count": 2,
   "metadata": {
    "id": "KnYU7QXN6c3O"
   },
   "outputs": [],
   "source": [
    "import numpy as np\n",
    "import pandas as pd\n",
    "import matplotlib.pyplot as plt\n",
    "import seaborn as sns\n",
    "import warnings\n",
    "import random\n",
    "def seed_everything(seed=2020):\n",
    "    random.seed(seed)\n",
    "    np.random.seed(seed)\n",
    "seed_everything(42)\n",
    "\n",
    "warnings.filterwarnings(\"ignore\")\n",
    "%matplotlib inline"
   ]
  },
  {
   "cell_type": "code",
   "execution_count": 3,
   "metadata": {
    "id": "A7U9CAbx6rWG"
   },
   "outputs": [],
   "source": [
    "data = pd.read_csv(\"../../data/plasmaetch.csv\")\n"
   ]
  },
  {
   "cell_type": "code",
   "execution_count": 4,
   "metadata": {
    "colab": {
     "base_uri": "https://localhost:8080/",
     "height": 34
    },
    "id": "Z6Wbv_jREKas",
    "outputId": "fa0a5943-64fa-46ca-e690-41c1611253cd"
   },
   "outputs": [
    {
     "data": {
      "text/plain": [
       "(22605, 21)"
      ]
     },
     "execution_count": 4,
     "metadata": {},
     "output_type": "execute_result"
    }
   ],
   "source": [
    "data.shape"
   ]
  },
  {
   "cell_type": "code",
   "execution_count": 5,
   "metadata": {
    "colab": {
     "base_uri": "https://localhost:8080/",
     "height": 51
    },
    "id": "e3sojs7g6x3N",
    "outputId": "8774abcf-0083-41ff-c545-bf87c263187c"
   },
   "outputs": [
    {
     "name": "stdout",
     "output_type": "stream",
     "text": [
      "Normal 87.42 % of the dataset\n",
      "Fault 12.58 % of the dataset\n"
     ]
    }
   ],
   "source": [
    "# data.head()\n",
    "# data.tail()\n",
    "print('Normal', round(data['label'].value_counts()[0]/len(data) * 100,2), '% of the dataset')\n",
    "print('Fault', round(data['label'].value_counts()[1]/len(data) * 100,2), '% of the dataset')"
   ]
  },
  {
   "cell_type": "code",
   "execution_count": 6,
   "metadata": {
    "id": "3n-pBpNg60Rw"
   },
   "outputs": [],
   "source": [
    "del data['Unnamed: 0']\n",
    "del data['bid']\n",
    "# 怎么处理？\n",
    "# del data['bid']"
   ]
  },
  {
   "cell_type": "code",
   "execution_count": 7,
   "metadata": {
    "colab": {
     "base_uri": "https://localhost:8080/",
     "height": 34
    },
    "id": "sU8tvfriCm49",
    "outputId": "f9994552-842a-4df9-f8eb-deb73eca9592"
   },
   "outputs": [
    {
     "data": {
      "text/plain": [
       "(22605, 19)"
      ]
     },
     "execution_count": 7,
     "metadata": {},
     "output_type": "execute_result"
    }
   ],
   "source": [
    "data.shape"
   ]
  },
  {
   "cell_type": "code",
   "execution_count": 8,
   "metadata": {
    "id": "0qESCHj2b-HG"
   },
   "outputs": [],
   "source": [
    "X = data.drop(['label'], axis=1)\n",
    "y = data['label']"
   ]
  },
  {
   "cell_type": "markdown",
   "metadata": {
    "id": "WFpwd_A5Cd6k"
   },
   "source": [
    "# Data Split"
   ]
  },
  {
   "cell_type": "code",
   "execution_count": 9,
   "metadata": {
    "id": "3d2cIpnpKyhC"
   },
   "outputs": [],
   "source": [
    "from sklearn.model_selection import train_test_split\n",
    "X_train, X_test, y_train, y_test = train_test_split(X, y, test_size = 0.3, random_state = 42)"
   ]
  },
  {
   "cell_type": "code",
   "execution_count": 10,
   "metadata": {
    "id": "oL2P7o6UCwky"
   },
   "outputs": [],
   "source": [
    "from sklearn.preprocessing import StandardScaler, MinMaxScaler\n",
    "\n",
    "scaler = MinMaxScaler()\n",
    "X_train = scaler.fit_transform(X_train)\n",
    "X_test = scaler.transform(X_test)"
   ]
  },
  {
   "cell_type": "code",
   "execution_count": 11,
   "metadata": {
    "id": "ceTGN6Q0C48E"
   },
   "outputs": [],
   "source": [
    "from sklearn.metrics import matthews_corrcoef, confusion_matrix,precision_recall_curve,auc,f1_score,roc_auc_score,roc_curve,recall_score,classification_report,accuracy_score\n",
    "\n",
    "\n",
    "def model(algorithm,dtrain_x,dtrain_y,dtest_x,dtest_y):\n",
    "    \n",
    "    print (\"MODEL - OUTPUT\")\n",
    "    print (\"*****************************************************************************************\")\n",
    "    algorithm.fit(dtrain_x,dtrain_y)\n",
    "    predictions = algorithm.predict(dtest_x)\n",
    "    \n",
    "    print (algorithm)\n",
    "    print (\"\\naccuracy_score :\",accuracy_score(dtest_y,predictions))\n",
    "    print (\"\\nrecall score:\\n\",(recall_score(dtest_y,predictions)))\n",
    "    print (\"\\nf1 score:\\n\",(f1_score(dtest_y,predictions)))\n",
    "#     print (\"\\nclassification report :\\n\",(classification_report(dtest_y,predictions)))\n",
    "    print (\"\\nmatthews_corrcoef:\\n\", (matthews_corrcoef(dtest_y, predictions)))\n",
    "    #cross validation\n",
    "    \n",
    "    # Graph\n",
    "    plt.figure(figsize=(13,10))\n",
    "    plt.subplot(221)\n",
    "    sns.heatmap(confusion_matrix(dtest_y,predictions),annot=True,fmt = \"d\",linecolor=\"k\",linewidths=3)\n",
    "    plt.title(\"CONFUSION MATRIX\",fontsize=20)\n",
    "    \n",
    "    predicting_probabilites = algorithm.predict_proba(dtest_x)[:,1]\n",
    "    fpr,tpr,thresholds = roc_curve(dtest_y,predicting_probabilites)\n",
    "    plt.subplot(222)\n",
    "    plt.plot(fpr,tpr,label = (\"Area_under the curve :\",auc(fpr,tpr)),color = \"r\")\n",
    "    plt.plot([1,0],[1,0],linestyle = \"dashed\",color =\"k\")\n",
    "    plt.legend(loc = \"best\")\n",
    "    plt.title(\"ROC - CURVE & AREA UNDER CURVE\",fontsize=20)"
   ]
  },
  {
   "cell_type": "code",
   "execution_count": 12,
   "metadata": {
    "colab": {
     "base_uri": "https://localhost:8080/",
     "height": 639
    },
    "id": "pZ46KJanC7z7",
    "outputId": "740b3dea-1fa8-4044-da91-b598142dff77"
   },
   "outputs": [
    {
     "name": "stdout",
     "output_type": "stream",
     "text": [
      "MODEL - OUTPUT\n",
      "*****************************************************************************************\n",
      "DecisionTreeClassifier()\n",
      "\n",
      "accuracy_score : 0.987761722205839\n",
      "\n",
      "recall score:\n",
      " 0.9610849056603774\n",
      "\n",
      "f1 score:\n",
      " 0.9515469935785174\n",
      "\n",
      "matthews_corrcoef:\n",
      " 0.9446050901902535\n"
     ]
    },
    {
     "data": {
      "image/png": "[encoded data removed]",
      "text/plain": [
       "<Figure size 936x720 with 3 Axes>"
      ]
     },
     "metadata": {
      "needs_background": "light"
     },
     "output_type": "display_data"
    }
   ],
   "source": [
    "from sklearn.tree import DecisionTreeClassifier\n",
    "\n",
    "clf = DecisionTreeClassifier()\n",
    "model(clf ,X_train,y_train,X_test,y_test)"
   ]
  },
  {
   "cell_type": "code",
   "execution_count": 13,
   "metadata": {
    "colab": {
     "base_uri": "https://localhost:8080/",
     "height": 605
    },
    "id": "k0pmJbxrDW11",
    "outputId": "7874b29c-c1fb-4e78-95fd-0232c06a12ad"
   },
   "outputs": [
    {
     "name": "stdout",
     "output_type": "stream",
     "text": [
      "MODEL - OUTPUT\n",
      "*****************************************************************************************\n",
      "SVC(probability=True)\n",
      "\n",
      "accuracy_score : 0.9713948687702743\n",
      "\n",
      "recall score:\n",
      " 0.7948113207547169\n",
      "\n",
      "f1 score:\n",
      " 0.874189364461738\n",
      "\n",
      "matthews_corrcoef:\n",
      " 0.8637203201090573\n"
     ]
    },
    {
     "data": {
      "image/png": "[encoded data removed]",
      "text/plain": [
       "<Figure size 936x720 with 3 Axes>"
      ]
     },
     "metadata": {
      "needs_background": "light"
     },
     "output_type": "display_data"
    }
   ],
   "source": [
    "# import SVC classifier\n",
    "from sklearn.svm import SVC\n",
    "\n",
    "\n",
    "# import metrics to compute accuracy\n",
    "from sklearn.metrics import accuracy_score\n",
    "\n",
    "\n",
    "# instantiate classifier with default hyperparameters\n",
    "svc=SVC(probability=True) \n",
    "\n",
    "model(svc ,X_train,y_train,X_test,y_test)"
   ]
  },
  {
   "cell_type": "code",
   "execution_count": null,
   "metadata": {
    "id": "KVyBf4-bUSaG"
   },
   "outputs": [],
   "source": []
  }
 ],
 "metadata": {
  "colab": {
   "collapsed_sections": [],
   "name": "plasm(direct).ipynb",
   "provenance": [],
   "toc_visible": true
  },
  "kernelspec": {
   "display_name": "Python 3",
   "language": "python",
   "name": "python3"
  },
  "language_info": {
   "codemirror_mode": {
    "name": "ipython",
    "version": 3
   },
   "file_extension": ".py",
   "mimetype": "text/x-python",
   "name": "python",
   "nbconvert_exporter": "python",
   "pygments_lexer": "ipython3",
   "version": "3.8.3"
  }
 },
 "nbformat": 4,
 "nbformat_minor": 1
}
